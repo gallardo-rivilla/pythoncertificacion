{
 "cells": [
  {
   "cell_type": "markdown",
   "metadata": {},
   "source": [
    "# Módulo 3: Ejercicios condicional, bucles, listas y procesamiento de listas.\n",
    "----------------------------------------------------"
   ]
  },
  {
   "cell_type": "markdown",
   "metadata": {},
   "source": [
    "##  Ejercicio 1\n",
    "-------------------------------------------\n",
    "\n",
    "Realiza un programa que lea dos números por teclado y permita elegir entre 3 opciones en un menú:\n",
    "\n",
    "+ Mostrar una suma de los dos números\n",
    "+ Mostrar una resta de los dos números (el primero menos el segundo)\n",
    "+ Mostrar una multiplicación de los dos números\n",
    "+ En caso de no introducir una opción válida, el programa informará de que no es correcta."
   ]
  },
  {
   "cell_type": "code",
   "execution_count": 1,
   "metadata": {},
   "outputs": [
    {
     "name": "stdout",
     "output_type": "stream",
     "text": [
      "Introduce un número: 2\n",
      "Introduce otro número: 5\n",
      "¿Qué quieres hacer? \n",
      "1) Sumar los dos números\n",
      "2) Restar los dos números\n",
      "3) Multiplicar los dos números\n",
      "Introduce un número: 1\n",
      "La suma de 2.0 + 5.0 es 7.0\n"
     ]
    }
   ],
   "source": [
    "#Solución\n",
    "\n",
    "n1 = float(input(\"Introduce un número: \") )\n",
    "n2 = float(input(\"Introduce otro número: \") )\n",
    "opcion = 0\n",
    "           \n",
    "print(\"¿Qué quieres hacer? \\n1) Sumar los dos números\\n2) Restar los dos números\\n3) Multiplicar los dos números\")\n",
    "opcion = int(input(\"Introduce un número: \") )     \n",
    "\n",
    "if opcion == 1:\n",
    "    print(\"La suma de\",n1,\"+\",n2,\"es\",n1+n2)\n",
    "elif opcion == 2:\n",
    "    print(\"La resta de\",n1,\"-\",n2,\"es\",n1-n2)\n",
    "elif opcion == 3:\n",
    "    print(\"El producto de\",n1,\"*\",n2,\"es\",n1*n2)\n",
    "else:\n",
    "    print(\"Opción incorrecta\")"
   ]
  },
  {
   "cell_type": "markdown",
   "metadata": {},
   "source": [
    "## Ejercicio 2\n",
    "-------------------------------------------\n",
    "Realiza un programa que lea un número impar por teclado. Si el usuario no introduce un número impar, debe repetise el proceso hasta que lo introduzca correctamente."
   ]
  },
  {
   "cell_type": "code",
   "execution_count": 2,
   "metadata": {},
   "outputs": [
    {
     "name": "stdout",
     "output_type": "stream",
     "text": [
      "Introduce un número impar: 2\n",
      "Introduce un número impar: 3\n"
     ]
    }
   ],
   "source": [
    "#Solución\n",
    "numero = 0\n",
    "while numero % 2 == 0:  # Mientras sea par repetimos el proceso\n",
    "    numero = int(input(\"Introduce un número impar: \") )"
   ]
  },
  {
   "cell_type": "markdown",
   "metadata": {},
   "source": [
    "## Ejercicio 3\n",
    "-------------------------------------------\n",
    "Realiza un programa que sume todos los números pares desde el 0 hasta el 100:\n",
    "\n",
    "Sugerencia: Puedes utilizar la funciones sum() y range() para hacerlo más fácil. El tercer parámetro en la función range(inicio, fin, salto) indica un salto de números, pruébalo."
   ]
  },
  {
   "cell_type": "code",
   "execution_count": 3,
   "metadata": {},
   "outputs": [
    {
     "name": "stdout",
     "output_type": "stream",
     "text": [
      "2550\n",
      "2550\n"
     ]
    }
   ],
   "source": [
    "# Primero con función range()\n",
    "\n",
    "suma = sum( range(0, 101, 2) )\n",
    "print(suma)\n",
    "\n",
    "# Segunda forma con bucles\n",
    "num = 0\n",
    "suma = 0\n",
    "\n",
    "while num <= 100:\n",
    "    if num % 2 == 0:\n",
    "        suma += num\n",
    "    num += 1\n",
    "    \n",
    "print(suma)"
   ]
  },
  {
   "cell_type": "markdown",
   "metadata": {},
   "source": [
    "## Ejercicio 4\n",
    "-------------------------------------------\n",
    "Realiza un programa que pida al usuario cuantos números quiere introducir. Luego lee todos los números y realiza una media aritmética:"
   ]
  },
  {
   "cell_type": "code",
   "execution_count": 6,
   "metadata": {},
   "outputs": [
    {
     "name": "stdout",
     "output_type": "stream",
     "text": [
      "¿Cuántos números quieres introducir? 2\n",
      "Introduce un número: 2\n",
      "Introduce un número: 5\n",
      "Se han introducido 2 números que en total han sumado 7.0 y la media es 3.5\n"
     ]
    }
   ],
   "source": [
    "suma = 0\n",
    "numeros = int(input(\"¿Cuántos números quieres introducir? \") )\n",
    "for x in range(numeros):\n",
    "    suma += float(input(\"Introduce un número: \") )\n",
    "print(\"Se han introducido\",numeros,\"números que en total han sumado\",suma,\"y la media es\",suma/numeros)"
   ]
  },
  {
   "cell_type": "markdown",
   "metadata": {},
   "source": [
    "## Ejercicio 5\n",
    "-------------------------------------------\n",
    "\n",
    "Realiza un programa que pida al usuario un número entero del 0 al 9, y que mientras el número no sea correcto se repita el proceso. Luego debe comprobar si el número se encuentra en la lista de números y notificarlo:\n",
    "\n",
    "Consejo: La sintaxis \"valor in lista\" permite comprobar fácilmente si un valor se encuentra en una lista (devuelve True o False)"
   ]
  },
  {
   "cell_type": "code",
   "execution_count": 7,
   "metadata": {},
   "outputs": [
    {
     "name": "stdout",
     "output_type": "stream",
     "text": [
      "Escribe un número del 0 al 9: 4\n",
      "El número 4 no se encuentra en la lista [1, 3, 6, 9]\n"
     ]
    }
   ],
   "source": [
    "numeros = [1, 3, 6, 9]\n",
    "\n",
    "while True:\n",
    "    numero = int(input(\"Escribe un número del 0 al 9: \"))\n",
    "    if numero >= 0 and numero <= 9:\n",
    "        break\n",
    "if numero in numeros:\n",
    "    print(\"El número\",numero,\"se encuentra en la lista\",numeros)\n",
    "else:\n",
    "    print(\"El número\",numero,\"no se encuentra en la lista\",numeros)"
   ]
  },
  {
   "cell_type": "markdown",
   "metadata": {},
   "source": [
    "## Ejercicio 6\n",
    "-------------------------------------------\n",
    "\n",
    "Utilizando la función range() y la conversión a listas genera las siguientes listas dinámicamente:\n",
    "\n",
    "Todos los números del 0 al 10 0, 1, 2, ..., 10\n",
    "Todos los números del -10 al 0 -10, -9, -8, ..., 0\n",
    "Todos los números pares del 0 al 20 0, 2, 4, ..., 20\n",
    "Todos los números impares entre -20 y 0 -19, -17, -15, ..., -1\n",
    "Todos los números múltiples de 5 del 0 al 50 0, 5, 10, ..., 50\n",
    "Pista: Utiliza el tercer parámetro de la función range(inicio, fin, salto)."
   ]
  },
  {
   "cell_type": "code",
   "execution_count": 8,
   "metadata": {},
   "outputs": [
    {
     "name": "stdout",
     "output_type": "stream",
     "text": [
      "[0, 1, 2, 3, 4, 5, 6, 7, 8, 9, 10]\n",
      "[-10, -9, -8, -7, -6, -5, -4, -3, -2, -1, 0]\n",
      "[0, 2, 4, 6, 8, 10, 12, 14, 16, 18, 20]\n",
      "[-19, -17, -15, -13, -11, -9, -7, -5, -3, -1]\n",
      "[0, 5, 10, 15, 20, 25, 30, 35, 40, 45, 50]\n"
     ]
    }
   ],
   "source": [
    "print( list( range( 0, 11 ) ) )\n",
    "print( list( range( -10, 1 ) ) )\n",
    "print( list( range( 0, 21, 2 ) ) )\n",
    "print( list( range( -19, 0, 2 ) ) )\n",
    "print( list( range( 0, 51, 5 ) ) )"
   ]
  },
  {
   "cell_type": "markdown",
   "metadata": {},
   "source": [
    "## Ejercicio 7\n",
    "-------------------------------------------\n",
    "Dadas dos listas, debes generar una tercera con todos los elementos que se repitan en ellas, pero no debe repetise ningún elemento en la nueva lista:"
   ]
  },
  {
   "cell_type": "code",
   "execution_count": 9,
   "metadata": {},
   "outputs": [
    {
     "name": "stdout",
     "output_type": "stream",
     "text": [
      "['h', 'o', 'l', 'a', ' ', 'u', 'n']\n"
     ]
    }
   ],
   "source": [
    "lista_1 = [\"h\",'o','l','a',' ', 'm','u','n','d','o']\n",
    "lista_2 = [\"h\",'o','l','a',' ', 'l','u','n','a']\n",
    "\n",
    "lista_3 = []\n",
    "\n",
    "for letra in lista_1:\n",
    "    if letra in lista_2 and letra not in lista_3:\n",
    "        lista_3.append(letra)\n",
    "\n",
    "print(lista_3)"
   ]
  },
  {
   "cell_type": "markdown",
   "metadata": {},
   "source": [
    "## Ejercicio 8\n",
    "-------------------------------------------\n",
    "Escriba un programa que permita crear una lista de palabras. Para ello, el programa tiene que pedir un número y luego solicitar ese número de palabras para crear la lista. \n",
    "\n",
    "Por último, el programa tiene que escribir la lista. \n"
   ]
  },
  {
   "cell_type": "code",
   "execution_count": 10,
   "metadata": {},
   "outputs": [
    {
     "name": "stdout",
     "output_type": "stream",
     "text": [
      "Dígame cuántas palabras tiene la lista: 2\n",
      "Dígame la palabra 1: Alfonso\n",
      "Dígame la palabra 2: Gallardo\n",
      "La lista creada es: ['Alfonso', 'Gallardo']\n"
     ]
    }
   ],
   "source": [
    "\n",
    "numero = int(input(\"Dígame cuántas palabras tiene la lista: \"))\n",
    "\n",
    "if numero < 1:\n",
    "    print(\"¡Imposible!\")\n",
    "else:\n",
    "    lista = []\n",
    "    for i in range(numero):\n",
    "        print(\"Dígame la palabra\", str(i + 1) + \": \", end=\"\")\n",
    "        palabra = input()\n",
    "        lista += [palabra]\n",
    "    print(\"La lista creada es:\", lista)"
   ]
  },
  {
   "cell_type": "markdown",
   "metadata": {},
   "source": [
    "## Ejercicio 9\n",
    "-------------------------------------------\n",
    "Se quiere realizar un programa que lea por teclado las 5 notas obtenidas por un alumno (comprendidas entre 0 y 10). A continuación debe mostrar todas las notas, la nota media, la nota más alta que ha sacado y la menor."
   ]
  },
  {
   "cell_type": "code",
   "execution_count": 12,
   "metadata": {},
   "outputs": [
    {
     "name": "stdout",
     "output_type": "stream",
     "text": [
      "Introduce la nota 1:5\n",
      "Introduce la nota 2:3\n",
      "Introduce la nota 3:2\n",
      "Introduce la nota 4:8\n",
      "Introduce la nota 5:6\n",
      "Notas: 5  3  2  8  6  \n",
      "Nota media:  4.8\n",
      "Nota max:  8\n",
      "Nota min:  2\n"
     ]
    }
   ],
   "source": [
    "notas = []\n",
    "for indice in range(1,6):\n",
    "\twhile True:\n",
    "\t\tnota = int(input(\"Introduce la nota %d:\" % indice))\n",
    "\t\tif nota>=0 and nota<=10: break\n",
    "\tnotas.append(nota)\n",
    "\n",
    "# Muestro resultados\n",
    "\n",
    "print(\"Notas: \",end=\"\")\n",
    "for nota in notas:\n",
    "\tprint(nota,\" \",end=\"\")\n",
    "print()\n",
    "print(\"Nota media: \",sum(notas)/len(notas))\n",
    "print(\"Nota max: \",max(notas))\n",
    "print(\"Nota min: \",min(notas))"
   ]
  },
  {
   "cell_type": "code",
   "execution_count": null,
   "metadata": {},
   "outputs": [],
   "source": []
  }
 ],
 "metadata": {
  "kernelspec": {
   "display_name": "Python 3",
   "language": "python",
   "name": "python3"
  },
  "language_info": {
   "codemirror_mode": {
    "name": "ipython",
    "version": 3
   },
   "file_extension": ".py",
   "mimetype": "text/x-python",
   "name": "python",
   "nbconvert_exporter": "python",
   "pygments_lexer": "ipython3",
   "version": "3.8.5"
  }
 },
 "nbformat": 4,
 "nbformat_minor": 4
}
