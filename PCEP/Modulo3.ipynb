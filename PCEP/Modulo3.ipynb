{
 "cells": [
  {
   "cell_type": "markdown",
   "metadata": {},
   "source": [
    "# Módulo 3: Ejecución condicional, bucles, listas y procesamiento de listas.\n",
    "----------------------------------------------------"
   ]
  },
  {
   "cell_type": "markdown",
   "metadata": {},
   "source": [
    "# 📢Instrucciones if-elif-else 🚀\n",
    "\n",
    "------------------------------------------------"
   ]
  },
  {
   "cell_type": "markdown",
   "metadata": {},
   "source": [
    "## IF-ELSE\n",
    "\n",
    "<b>if condición_true_or_false:\n",
    "    \n",
    "    ejecuta_si_condición_true\n",
    "    \n",
    " else: \n",
    "    \n",
    "    ejecuta_si_condición_false \n",
    "\n",
    "</b>\n",
    "\n",
    ">Permite dividir el flujo de un programa en diferentes caminos. El if se ejecuta siempre que la expresión que comprueba devuelva True<br>\n",
    "\n",
    "👉 Reglas:\n",
    "\n",
    "1. No debes usar else sin un if precedente.\n",
    "\n",
    "2. Else siempre es la última rama de la cascada , independientemente de si has usado elif o no.\n",
    "\n",
    "3. Else es una parte opcional de la cascada, y puede omitirse.\n",
    "\n",
    "4. Si hay una rama else en la cascada, solo se ejecuta una de todas las ramas.\n",
    "\n",
    "5. Si no hay una rama else, es posible que no se ejecute ninguna de las opciones disponibles.\n"
   ]
  },
  {
   "cell_type": "code",
   "execution_count": 16,
   "metadata": {},
   "outputs": [
    {
     "name": "stdout",
     "output_type": "stream",
     "text": [
      "Se cumple la condición\n",
      "También se muestre este print\n"
     ]
    }
   ],
   "source": [
    "if True:  # equivale a if not False\n",
    "    print(\"Se cumple la condición\")\n",
    "    print(\"También se muestre este print\")"
   ]
  },
  {
   "cell_type": "code",
   "execution_count": 3,
   "metadata": {},
   "outputs": [
    {
     "name": "stdout",
     "output_type": "stream",
     "text": [
      "x es igual a 10\n"
     ]
    }
   ],
   "source": [
    "x = 10\n",
    "\n",
    "if x == 10: # condición\n",
    "    print(\"x es igual a 10\") # ejecutado si la condición es verdadera\n",
    "\n"
   ]
  },
  {
   "cell_type": "code",
   "execution_count": 19,
   "metadata": {},
   "outputs": [
    {
     "name": "stdout",
     "output_type": "stream",
     "text": [
      "a vale 5 y b vale 10\n"
     ]
    }
   ],
   "source": [
    "# Como condición podemos evaluar múltiples expresiones, siempre que éstas devuelvan True o False\n",
    "a = 5\n",
    "b = 10\n",
    "if a==5 and b == 10:\n",
    "    print(\"a vale 5 y b vale 10\")"
   ]
  },
  {
   "cell_type": "code",
   "execution_count": 4,
   "metadata": {},
   "outputs": [
    {
     "name": "stdout",
     "output_type": "stream",
     "text": [
      "x es mayor que 5\n",
      "x es igual a 10\n"
     ]
    }
   ],
   "source": [
    "x = 10\n",
    "\n",
    "if x > 5: # condición uno\n",
    "    print(\"x es mayor que 5\") # ejecutado si la condición uno es verdadera\n",
    "\n",
    "if x <10: # condición dos\n",
    "    print(\"x es menor que 10\") # ejecutado si la condición dos es verdadera\n",
    "\n",
    "if x == 10: # condición tres\n",
    "     print(\"x es igual a 10\") # ejecutado si la condición tres es verdadera\n",
    "\n",
    "# Cada declaración if se prueba por separado."
   ]
  },
  {
   "cell_type": "code",
   "execution_count": 20,
   "metadata": {},
   "outputs": [
    {
     "name": "stdout",
     "output_type": "stream",
     "text": [
      "11 es un número impar\n"
     ]
    }
   ],
   "source": [
    "# Sentencia Else \n",
    "n = 11\n",
    "if n % 2 == 0:\n",
    "    print(n,\"es un número par\")\n",
    "else:\n",
    "    print(n,\"es un número impar\")"
   ]
  },
  {
   "cell_type": "code",
   "execution_count": 6,
   "metadata": {},
   "outputs": [
    {
     "name": "stdout",
     "output_type": "stream",
     "text": [
      "x es mayor o igual a 10\n"
     ]
    }
   ],
   "source": [
    "#•\tUna declaración de if-else\n",
    "x = 10\n",
    "\n",
    "if x < 10: # condición\n",
    "    print (\"x es menor que 10\") # ejecutado si la condición es Verdadera\n",
    "\n",
    "else:\n",
    "    print (\"x es mayor o igual a 10\") # ejecutado si la condición es False\n",
    "\n"
   ]
  },
  {
   "cell_type": "code",
   "execution_count": 7,
   "metadata": {},
   "outputs": [
    {
     "name": "stdout",
     "output_type": "stream",
     "text": [
      "x > 5\n",
      "x > 8\n",
      "Se ejecutará el else\n"
     ]
    }
   ],
   "source": [
    "#•\tUna serie de declaraciones if seguidas de un else,\n",
    "x = 10\n",
    "\n",
    "if x > 5: # Verdadero\n",
    "    print(\"x > 5\")\n",
    "\n",
    "if x > 8: # Verdadero\n",
    "    print(\"x > 8\")\n",
    "\n",
    "if x > 10: # Falso\n",
    "    print(\"x > 10\")\n",
    "\n",
    "else:\n",
    "    print(\"Se ejecutará el else\")"
   ]
  },
  {
   "cell_type": "code",
   "execution_count": 8,
   "metadata": {},
   "outputs": [
    {
     "name": "stdout",
     "output_type": "stream",
     "text": [
      "x == 10\n",
      "x > 5\n"
     ]
    }
   ],
   "source": [
    "# •\tLa declaración  if-elif-else\n",
    "x = 10\n",
    "\n",
    "if  x == 10: # Verdadero\n",
    "    print(\"x == 10\")\n",
    "\n",
    "if x > 15: # Falso\n",
    "    print(\"x > 15\")\n",
    "\n",
    "elif x > 10: # Falso\n",
    "    print(\"x > 10\")\n",
    "\n",
    "elif x > 5: # Verdadero\n",
    "    print(\"x > 5\")\n",
    "\n",
    "else:\n",
    "    print(\"No se ejecutará el else\")\n",
    "\n",
    "# Si la condición para if es False, el programa verifica las condiciones de los bloques elif posteriores: el primer elif que sea True es el que se ejecuta. \n",
    "# Si todas las condiciones son False, se ejecutará el bloque else."
   ]
  },
  {
   "cell_type": "code",
   "execution_count": 9,
   "metadata": {},
   "outputs": [
    {
     "name": "stdout",
     "output_type": "stream",
     "text": [
      "anidado: x == 10\n"
     ]
    }
   ],
   "source": [
    "#•\tDeclaraciones condicionales anidadas, ejemplo:\n",
    "\n",
    "x = 10\n",
    "\n",
    "if x > 5: # Verdadero\n",
    "    if x == 6: # Falso\n",
    "        print(\"anidado: x == 6\")\n",
    "    elif x == 10: # Verdadero\n",
    "        print(\"anidado: x == 10\")\n",
    "    else:\n",
    "        print(\"anidado: else\")\n",
    "else:\n",
    "    print(\"else\")\n"
   ]
  },
  {
   "cell_type": "code",
   "execution_count": 21,
   "metadata": {},
   "outputs": [
    {
     "name": "stdout",
     "output_type": "stream",
     "text": [
      "Este comando no se reconoce\n"
     ]
    }
   ],
   "source": [
    "# Se encadena a un if u otro elif para comprobar múltiples condiciones, siempre que las anteriores no se ejecuten.\n",
    "comando = \"OTRA COSA\"\n",
    "if comando == \"ENTRAR\":\n",
    "    print(\"Bienvenido al sistema\")\n",
    "elif comando == \"SALUDAR\":\n",
    "    print(\"Hola, espero que te lo estés pasando bien aprendiendo Python\")\n",
    "elif comando == \"SALIR\":\n",
    "    print(\"Saliendo del sistema...\")\n",
    "else:\n",
    "    print(\"Este comando no se reconoce\")"
   ]
  },
  {
   "cell_type": "code",
   "execution_count": 10,
   "metadata": {},
   "outputs": [
    {
     "name": "stdout",
     "output_type": "stream",
     "text": [
      "False\n",
      "True\n"
     ]
    }
   ],
   "source": [
    "# ¿Cuál es la salida del siguiente fragmento de código?\n",
    "\n",
    "x = 5\n",
    "y = 10\n",
    "z = 8\n",
    "\n",
    "print(x > y)\n",
    "print(y > z) \n"
   ]
  },
  {
   "cell_type": "code",
   "execution_count": 11,
   "metadata": {},
   "outputs": [
    {
     "name": "stdout",
     "output_type": "stream",
     "text": [
      "False\n",
      "True\n"
     ]
    }
   ],
   "source": [
    "# ¿Cuál es la salida del siguiente fragmento de código?\n",
    "\n",
    "x, y, z = 5, 10, 8\n",
    "\n",
    "print(x > z)\n",
    "print((y - 5) == x) \n"
   ]
  },
  {
   "cell_type": "code",
   "execution_count": 12,
   "metadata": {},
   "outputs": [
    {
     "name": "stdout",
     "output_type": "stream",
     "text": [
      "True\n",
      "False\n"
     ]
    }
   ],
   "source": [
    "# ¿Cuál es la salida del siguiente fragmento de código?\n",
    "x, y, z = 5, 10, 8\n",
    "x, y, z = z, y, x\n",
    "\n",
    "print(x > z)\n",
    "print((y - 5) == x) \n"
   ]
  },
  {
   "cell_type": "code",
   "execution_count": 13,
   "metadata": {},
   "outputs": [
    {
     "name": "stdout",
     "output_type": "stream",
     "text": [
      "True\n",
      "True\n",
      "else\n"
     ]
    }
   ],
   "source": [
    "# ¿Cuál es la salida del siguiente fragmento de código?\n",
    "x = 10\n",
    "\n",
    "if x == 10:\n",
    "    print(x == 10)\n",
    "if x > 5:\n",
    "    print(x > 5)\n",
    "if x < 10:\n",
    "    print(x < 10)\n",
    "else:\n",
    "    print(\"else\") \n"
   ]
  },
  {
   "cell_type": "code",
   "execution_count": 14,
   "metadata": {},
   "outputs": [
    {
     "name": "stdout",
     "output_type": "stream",
     "text": [
      "cuatro\n",
      "cinco\n"
     ]
    }
   ],
   "source": [
    "# ¿Cuál es la salida del siguiente fragmento de código?\n",
    "x = \"1\"\n",
    "\n",
    "if x == 1:\n",
    "    print(\"uno\")\n",
    "elif x == \"1\":\n",
    "    if int (x)> 1:\n",
    "        print(\"dos\")\n",
    "    elif int (x) < 1:\n",
    "        print(\"tres\")\n",
    "    else:\n",
    "        print(\"cuatro\")\n",
    "if int (x) == 1:\n",
    "    print(\"cinco\")\n",
    "else:\n",
    "    print(\"seis\") \n"
   ]
  },
  {
   "cell_type": "code",
   "execution_count": 15,
   "metadata": {},
   "outputs": [
    {
     "name": "stdout",
     "output_type": "stream",
     "text": [
      "uno\n",
      "dos\n"
     ]
    }
   ],
   "source": [
    "# ¿Cuál es la salida del siguiente fragmento de código?\n",
    "x = 1\n",
    "y = 1.0\n",
    "z = \"1\"\n",
    "\n",
    "if x == y:\n",
    "    print(\"uno\")\n",
    "if y == int (z):\n",
    "    print(\"dos\")\n",
    "elif x == y:\n",
    "    print(\"tres\")\n",
    "else:\n",
    "    print(\"cuatro\") \n"
   ]
  },
  {
   "cell_type": "code",
   "execution_count": 22,
   "metadata": {},
   "outputs": [
    {
     "name": "stdout",
     "output_type": "stream",
     "text": [
      "Introduce una nota: 5\n",
      "Suficiente\n"
     ]
    }
   ],
   "source": [
    "nota = float(input(\"Introduce una nota: \"))\n",
    "if nota >= 9:\n",
    "    print(\"Sobresaliente\")\n",
    "elif nota >= 7:\n",
    "    print(\"Notable\")\n",
    "elif nota >= 6:\n",
    "    print(\"Bien\")\n",
    "elif nota >= 5:\n",
    "    print(\"Suficiente\")\n",
    "else:\n",
    "    print(\"Insuficiente\")"
   ]
  },
  {
   "cell_type": "markdown",
   "metadata": {},
   "source": [
    "# 📢Bucle while 🚀\n",
    "\n",
    "------------------------------------------------"
   ]
  },
  {
   "cell_type": "markdown",
   "metadata": {},
   "source": [
    "## Ciclo while\n",
    "\n",
    "<b>mientras haya algo que hacer hazlo</b>\n",
    "\n",
    "while expresión_condicional:\n",
    "\n",
    "    instrucción_uno\n",
    "    \n",
    "    instruccion_dos\n",
    "    \n",
    "    instrucción_tres\n",
    "    \n",
    "    :\n",
    "    \n",
    "    :\n",
    "    \n",
    "    instrucción_n\n",
    "    \n",
    "\n",
    "\n",
    ">El ciclo while ejecuta una sentencia o un conjunto de declaraciones siempre que una condición booleana especificada sea verdadera.<br>\n",
    "\n",
    ">Si observas algunas similitudes con la instrucción if, está bien. De hecho, la diferencia sintáctica es solo una: usa la palabra while en lugar de la palabra if.<br>\n",
    "\n",
    ">También puede tener la rama else, como los if.<br>\n"
   ]
  },
  {
   "cell_type": "code",
   "execution_count": 24,
   "metadata": {},
   "outputs": [
    {
     "name": "stdout",
     "output_type": "stream",
     "text": [
      "c vale 1\n",
      "c vale 2\n",
      "c vale 3\n",
      "c vale 4\n",
      "c vale 5\n",
      "c vale 6\n"
     ]
    }
   ],
   "source": [
    "c = 0\n",
    "while c <= 5:\n",
    "    c+=1\n",
    "    print(\"c vale\",c)"
   ]
  },
  {
   "cell_type": "code",
   "execution_count": 26,
   "metadata": {},
   "outputs": [
    {
     "name": "stdout",
     "output_type": "stream",
     "text": [
      "Atascado en un ciclo infinito\n"
     ]
    }
   ],
   "source": [
    "while True:\n",
    "    print(\"Atascado en un ciclo infinito\")\n",
    "    #break\n"
   ]
  },
  {
   "cell_type": "code",
   "execution_count": 27,
   "metadata": {},
   "outputs": [
    {
     "name": "stdout",
     "output_type": "stream",
     "text": [
      "else: 5\n"
     ]
    }
   ],
   "source": [
    "i = 5\n",
    "while i < 5:\n",
    "    print(i)\n",
    "    i += 1\n",
    "else:\n",
    "    print(\"else:\", i)\n",
    "\n",
    "#El estado de while es Falso al principio\n"
   ]
  },
  {
   "cell_type": "code",
   "execution_count": 28,
   "metadata": {},
   "outputs": [
    {
     "name": "stdout",
     "output_type": "stream",
     "text": [
      "1\n",
      "3\n",
      "5\n",
      "7\n",
      "9\n"
     ]
    }
   ],
   "source": [
    "# bucle while que cuente de 0 a 10, e imprima números impares en la pantalla. \n",
    "x = 1\n",
    "while x < 11:\n",
    "    if x % 2 != 0:\n",
    "        print(x)\n",
    "    x += 1\n"
   ]
  },
  {
   "cell_type": "code",
   "execution_count": 29,
   "metadata": {},
   "outputs": [
    {
     "name": "stdout",
     "output_type": "stream",
     "text": [
      "4\n",
      "3\n",
      "2\n",
      "0\n"
     ]
    }
   ],
   "source": [
    "# ¿Cuál es la salida del siguiente código?\n",
    "n = 3\n",
    "\n",
    "while n > 0:\n",
    "    print(n + 1)\n",
    "    n -= 1\n",
    "else:\n",
    "    print(n)\n"
   ]
  },
  {
   "cell_type": "code",
   "execution_count": 46,
   "metadata": {},
   "outputs": [
    {
     "name": "stdout",
     "output_type": "stream",
     "text": [
      "else: 5\n"
     ]
    }
   ],
   "source": [
    "# La rama else del ciclo siempre se ejecuta una vez, independientemente de si el ciclo ha entrado o no en su cuerpo .\n",
    "i = 5\n",
    "while i < 5: #El estado de while es Falso al principio. \n",
    "    print(i)\n",
    "    i += 1\n",
    "else:\n",
    "    print(\"else:\", i)\n",
    "\n"
   ]
  },
  {
   "cell_type": "markdown",
   "metadata": {},
   "source": [
    "# 📢Función Range() 🚀\n",
    "\n",
    "------------------------------------------------"
   ]
  },
  {
   "cell_type": "markdown",
   "metadata": {},
   "source": [
    "✨ Antes de continuar con el bucle for, vamos a ver la función range() que vamos a usar para explicar el bucle for a continuación.\n",
    "\n",
    "👉 range(valor_inicial,valor_final (sin incluirlo),secuencia_numeros)\n",
    "\n",
    "\n",
    "👍 La función range() genera una secuencia de números. Acepta enteros y devuelve objetos de rango. La sintaxis de range() tiene el siguiente aspecto: range(start, stop, step), donde:\n",
    "\n",
    "•\tstart es un parámetro opcional que especifica el número de inicio de la secuencia (0 por defecto).\n",
    "\n",
    "•\tstop es un parámetro opcional que especifica el final de la secuencia generada (no está incluido).\n",
    "\n",
    "•\ty step es un parámetro opcional que especifica la diferencia entre los números en la secuencia es (1 por defecto).\n",
    "\n",
    "\n",
    ">La función range() es muy simple, pero de una potencia tremenda: genera automáticamente una secuencia con una progresión aritmética.<br>\n",
    "\n",
    ">Puede utilizarse con uno, dos o tres parámetros.<br>\n",
    "\n",
    ">Sirve para generar una lista de números que podemos recorrer fácilmente, pero no ocupa memoria porque se interpreta sobre la marcha.<br>\n",
    "\n",
    "\n",
    ">La función range() solo acepta enteros como argumentos y genera secuencias de enteros.<br>"
   ]
  },
  {
   "cell_type": "code",
   "execution_count": 36,
   "metadata": {},
   "outputs": [
    {
     "name": "stdout",
     "output_type": "stream",
     "text": [
      "El valor de i es actualmente 2\n",
      "El valor de i es actualmente 3\n",
      "El valor de i es actualmente 4\n",
      "El valor de i es actualmente 5\n",
      "El valor de i es actualmente 6\n",
      "El valor de i es actualmente 7\n"
     ]
    }
   ],
   "source": [
    "for i in range (2, 8):\n",
    "    print(\"El valor de i es actualmente\", i)"
   ]
  },
  {
   "cell_type": "code",
   "execution_count": 40,
   "metadata": {},
   "outputs": [
    {
     "name": "stdout",
     "output_type": "stream",
     "text": [
      "6 4 2 "
     ]
    }
   ],
   "source": [
    "for i in range(6, 1, -2):\n",
    "    print(i, end=\" \")"
   ]
  },
  {
   "cell_type": "code",
   "execution_count": 37,
   "metadata": {},
   "outputs": [
    {
     "ename": "TypeError",
     "evalue": "'float' object cannot be interpreted as an integer",
     "output_type": "error",
     "traceback": [
      "\u001b[1;31m---------------------------------------------------------------------------\u001b[0m",
      "\u001b[1;31mTypeError\u001b[0m                                 Traceback (most recent call last)",
      "\u001b[1;32m<ipython-input-37-5007809e8bca>\u001b[0m in \u001b[0;36m<module>\u001b[1;34m\u001b[0m\n\u001b[1;32m----> 1\u001b[1;33m \u001b[1;32mfor\u001b[0m \u001b[0mnumero\u001b[0m \u001b[1;32min\u001b[0m \u001b[0mrange\u001b[0m\u001b[1;33m(\u001b[0m\u001b[1;36m2.0\u001b[0m\u001b[1;33m,\u001b[0m\u001b[1;36m6\u001b[0m\u001b[1;33m)\u001b[0m\u001b[1;33m:\u001b[0m\u001b[1;33m\u001b[0m\u001b[1;33m\u001b[0m\u001b[0m\n\u001b[0m\u001b[0;32m      2\u001b[0m     \u001b[0mprint\u001b[0m\u001b[1;33m(\u001b[0m\u001b[1;34m\"El valor del numero es \"\u001b[0m\u001b[1;33m,\u001b[0m \u001b[0mnumero\u001b[0m\u001b[1;33m)\u001b[0m\u001b[1;33m\u001b[0m\u001b[1;33m\u001b[0m\u001b[0m\n",
      "\u001b[1;31mTypeError\u001b[0m: 'float' object cannot be interpreted as an integer"
     ]
    }
   ],
   "source": [
    "# Solo acepta enteros, en este caso arroja un error:\n",
    "\n",
    "for numero in range(2.0,6):\n",
    "    print(\"El valor del numero es \", numero)"
   ]
  },
  {
   "cell_type": "code",
   "execution_count": 35,
   "metadata": {},
   "outputs": [],
   "source": [
    "# Si el conjunto generado por la función range() está vacío, el ciclo no ejecutará su cuerpo en absoluto.\n",
    "\n",
    "for i in range(1, 1):\n",
    "    print(\"El valor de i es actualmente\", i)\n"
   ]
  },
  {
   "cell_type": "code",
   "execution_count": 39,
   "metadata": {},
   "outputs": [
    {
     "name": "stdout",
     "output_type": "stream",
     "text": [
      "500500\n"
     ]
    }
   ],
   "source": [
    "# calcula la suma de todos los números naturales desde el 1 hasta el 1000 (incluido):\n",
    "suma = 0\n",
    "for n in range(1001):\n",
    "    suma+=n\n",
    "print(suma)"
   ]
  },
  {
   "cell_type": "code",
   "execution_count": 43,
   "metadata": {},
   "outputs": [
    {
     "data": {
      "text/plain": [
       "[0, 1, 2, 3, 4, 5, 6, 7, 8, 9]"
      ]
     },
     "execution_count": 43,
     "metadata": {},
     "output_type": "execute_result"
    }
   ],
   "source": [
    "# la funcion range() también se puede usar para crear listas que veremos más adelante:\n",
    "list(range(10))"
   ]
  },
  {
   "cell_type": "code",
   "execution_count": 44,
   "metadata": {},
   "outputs": [
    {
     "name": "stdout",
     "output_type": "stream",
     "text": [
      "[6, 9, 12, 15, 18]\n"
     ]
    }
   ],
   "source": [
    "# Podemos pasarle variables a los parámetros de la función range()\n",
    "inicio = 6\n",
    "final = 20\n",
    "paso = 3\n",
    " \n",
    "print(list(range(inicio,final, paso)))"
   ]
  },
  {
   "cell_type": "code",
   "execution_count": 50,
   "metadata": {},
   "outputs": [
    {
     "name": "stdout",
     "output_type": "stream",
     "text": [
      "*\n",
      "*\n"
     ]
    }
   ],
   "source": [
    "# ¿Cuántos * enviará el siguiente fragmento a la consola?\n",
    "i = 2\n",
    "while i>=0:\n",
    "    print(\"*\")\n",
    "    i -=2"
   ]
  },
  {
   "cell_type": "markdown",
   "metadata": {},
   "source": [
    "# 📢Bucle for 🚀\n",
    "\n",
    "------------------------------------------------"
   ]
  },
  {
   "cell_type": "markdown",
   "metadata": {},
   "source": [
    "## Ciclo for\n",
    "\n",
    ">Otro tipo de ciclo disponible en Python proviene de la observación de que a veces es más importante contar los \"giros o vueltas\" del ciclo que verificar las condiciones.<br>\n",
    "\n",
    "\n",
    ">El ciclo for ejecuta un conjunto de sentencias muchas veces; se usa para iterar sobre una secuencia (por ejemplo, una lista, un diccionario, una tupla o un conjunto; pronto aprenderás sobre ellos) u otros objetos que son iterables (por ejemplo, cadenas). Puedes usar el ciclo for para iterar sobre una secuencia de números usando la función incorporada range. <br>\n",
    "\n",
    ">El ciclo for también puede usarse con la rama ELSE, pero se comporta de una forma dirente. Los veremos en los ejemplos<br>"
   ]
  },
  {
   "cell_type": "code",
   "execution_count": 32,
   "metadata": {},
   "outputs": [
    {
     "name": "stdout",
     "output_type": "stream",
     "text": [
      "A*l*f*o*n*s*o*"
     ]
    }
   ],
   "source": [
    "palabra = \"Alfonso\"\n",
    "for letra in palabra:\n",
    "    print(letra, end = \"*\")"
   ]
  },
  {
   "cell_type": "code",
   "execution_count": 33,
   "metadata": {},
   "outputs": [
    {
     "name": "stdout",
     "output_type": "stream",
     "text": [
      "2\n",
      "4\n",
      "6\n",
      "8\n"
     ]
    }
   ],
   "source": [
    "#Imprimir numeros pares con la función range()\n",
    "for i in range(1, 10):\n",
    "    if i % 2 == 0:\n",
    "        print(i)"
   ]
  },
  {
   "cell_type": "code",
   "execution_count": 38,
   "metadata": {},
   "outputs": [
    {
     "name": "stdout",
     "output_type": "stream",
     "text": [
      "H\n",
      "o\n",
      "l\n",
      "a\n",
      " \n",
      "a\n",
      "m\n",
      "i\n",
      "g\n",
      "o\n",
      "s\n"
     ]
    }
   ],
   "source": [
    "cadena = \"Hola amigos\"\n",
    "for caracter in cadena:\n",
    "    print(caracter)"
   ]
  },
  {
   "cell_type": "code",
   "execution_count": 41,
   "metadata": {},
   "outputs": [
    {
     "name": "stdout",
     "output_type": "stream",
     "text": [
      "-1\n",
      "0\n",
      "1\n",
      "2\n",
      "3\n"
     ]
    }
   ],
   "source": [
    "# ¿Cuál es la salida del siguiente código?\n",
    "\n",
    "n = range(4)\n",
    "\n",
    "for num in n:\n",
    "    print(num - 1)\n",
    "else:\n",
    "    print(num)\n"
   ]
  },
  {
   "cell_type": "code",
   "execution_count": 42,
   "metadata": {},
   "outputs": [
    {
     "name": "stdout",
     "output_type": "stream",
     "text": [
      "0\n",
      "3\n"
     ]
    }
   ],
   "source": [
    "# ¿Cuál es la salida del siguiente código?\n",
    "for i in range(0, 6, 3):\n",
    "    print(i)\n"
   ]
  },
  {
   "cell_type": "code",
   "execution_count": 45,
   "metadata": {},
   "outputs": [
    {
     "name": "stdout",
     "output_type": "stream",
     "text": [
      "else: 111\n"
     ]
    }
   ],
   "source": [
    "# Cuando el cuerpo del ciclo no se ejecuta, la variable de control conserva el valor que tenía antes del ciclo.\n",
    "i = 111\n",
    "for i in range(2, 1):\n",
    "    print(i)\n",
    "else:\n",
    "    print(\"else:\", i) \n",
    "    \n",
    "# si la variable de control no existe antes de que comience el ciclo, no existirá cuando la ejecución llegue a la rama else."
   ]
  },
  {
   "cell_type": "code",
   "execution_count": 51,
   "metadata": {},
   "outputs": [
    {
     "name": "stdout",
     "output_type": "stream",
     "text": [
      "#\n",
      "#\n"
     ]
    }
   ],
   "source": [
    "# ¿Cuántos # enviará el siguiente fragmento a la consola?\n",
    "for i in range (-1,1):\n",
    "    print(\"#\")"
   ]
  },
  {
   "cell_type": "markdown",
   "metadata": {},
   "source": [
    "# 📢Las declaraciones break y continue 🚀\n",
    "\n",
    "------------------------------------------------"
   ]
  },
  {
   "cell_type": "markdown",
   "metadata": {},
   "source": [
    "## Control de flujo break y continue\n",
    "\n",
    ">Python proporciona dos instrucciones especiales para la implementación de estas dos tareas. Digamos por razones de precisión que su existencia en el lenguaje no es necesaria: un programador experimentado puede codificar cualquier algoritmo sin estas instrucciones. Tales adiciones, que no mejoran el poder expresivo del lenguaje, sino que solo simplifican el trabajo del desarrollador, a veces se denominan dulces sintácticos o azúcar sintáctica.<br>\n",
    "\n",
    "\n",
    ">Break: Sale del ciclo inmediatamente, e incondicionalmente termina la operación del ciclo; el programa comienza a ejecutar la instrucción más cercana después del cuerpo del ciclo. <br>\n",
    "\n",
    ">Continue: Se comporta como si el programa hubiera llegado repentinamente al final del cuerpo; el siguiente turno se inicia y la expresión de condición se prueba de inmediato.<br>\n",
    "\n",
    ">Ambas palabras son palabras clave reservadas<br>"
   ]
  },
  {
   "cell_type": "code",
   "execution_count": 47,
   "metadata": {},
   "outputs": [
    {
     "name": "stdout",
     "output_type": "stream",
     "text": [
      "Alfonso "
     ]
    }
   ],
   "source": [
    "texto = \"Alfonso Gallardo\"\n",
    "for letter in texto:\n",
    "    if letter == \"G\":\n",
    "        break\n",
    "    print(letter, end= \"\")\n",
    "\n"
   ]
  },
  {
   "cell_type": "code",
   "execution_count": 49,
   "metadata": {},
   "outputs": [
    {
     "name": "stdout",
     "output_type": "stream",
     "text": [
      "snsnsn"
     ]
    }
   ],
   "source": [
    "text = \"snxsnxsnx\"\n",
    "for letter in text:\n",
    "    if letter == \"x\":\n",
    "        continue\n",
    "    print(letter, end= \"\")"
   ]
  },
  {
   "cell_type": "markdown",
   "metadata": {},
   "source": [
    "# 📢Listas y arreglos 🚀\n",
    "\n",
    "------------------------------------------------"
   ]
  },
  {
   "cell_type": "markdown",
   "metadata": {},
   "source": [
    "## Las listas\n",
    "\n",
    ">La lista es un tipo de dato en Python que se utiliza para almacenar múltiples objetos. Es una colección ordenada y mutable de elementos separados por comas entre corchetes, por ejemplo: miLista = [1, None, True, \"Soy una cadena\", 256, 0] <br>\n",
    "\n",
    ">Las listas se pueden indexar y actualizar. <br>\n",
    "\n",
    ">Las listas pueden estar anidadas.<br>\n",
    "\n",
    ">Los elementos de la lista y las listas se pueden eliminar.<br>\n",
    "\n",
    ">La función len() se puede usar para verificar la longitud de la lista.<br>"
   ]
  },
  {
   "cell_type": "code",
   "execution_count": 52,
   "metadata": {},
   "outputs": [
    {
     "name": "stdout",
     "output_type": "stream",
     "text": [
      "Contenido de la lista original: [10, 5, 7, 2, 1]\n"
     ]
    }
   ],
   "source": [
    "numeros = [10, 5, 7, 2, 1]\n",
    "print(\"Contenido de la lista original:\", numeros) # imprime el contenido de la lista original\n"
   ]
  },
  {
   "cell_type": "code",
   "execution_count": 53,
   "metadata": {},
   "outputs": [
    {
     "name": "stdout",
     "output_type": "stream",
     "text": [
      "Nuevo contenido de la lista: [111, 5, 7, 2, 1]\n"
     ]
    }
   ],
   "source": [
    "# El valor dentro de los corchetes que selecciona un elemento de la lista se llama un índice, mientras que la operación de seleccionar un elemento de la lista se conoce como indexación.\n",
    "numeros[0] = 111 \n",
    "print(\"Nuevo contenido de la lista:\", numeros) # contenido de la lista actual.\n"
   ]
  },
  {
   "cell_type": "code",
   "execution_count": 54,
   "metadata": {},
   "outputs": [
    {
     "name": "stdout",
     "output_type": "stream",
     "text": [
      "Nuevo contenido de la lista: [111, 1, 7, 2, 1]\n"
     ]
    }
   ],
   "source": [
    "numeros[1] = numeros[4]  # copiando el valor del cuarto elemento al segundo\n",
    "print(\"Nuevo contenido de la lista:\", numeros) # imprimiendo el contenido de la lista actual.\n",
    "\n"
   ]
  },
  {
   "cell_type": "markdown",
   "metadata": {},
   "source": [
    "## Accediendo al contenido de la lista"
   ]
  },
  {
   "cell_type": "code",
   "execution_count": 55,
   "metadata": {},
   "outputs": [
    {
     "name": "stdout",
     "output_type": "stream",
     "text": [
      "111\n"
     ]
    }
   ],
   "source": [
    "# Se puede acceder a cada uno de los elementos de la lista por separado. Por ejemplo, se puede imprimir:\n",
    "print(numeros[0]) # accediendo al primer elemento de la lista. \n"
   ]
  },
  {
   "cell_type": "code",
   "execution_count": 56,
   "metadata": {},
   "outputs": [
    {
     "name": "stdout",
     "output_type": "stream",
     "text": [
      "[111, 1, 7, 2, 1]\n"
     ]
    }
   ],
   "source": [
    "print(numeros) # imprimiendo la lista completa."
   ]
  },
  {
   "cell_type": "markdown",
   "metadata": {},
   "source": [
    "## La función len()\n",
    "\n",
    ">La longitud de una lista puede variar durante la ejecución. Se pueden agregar nuevos elementos a la lista, mientras que otros pueden eliminarse de ella. Esto significa que la lista es una entidad muy dinámica.<br>\n",
    "\n",
    ">Si deseas verificar la longitud actual de la lista, puedes usar una función llamada len() (su nombre proviene de length - longitud).<br>\n",
    "\n",
    ">La función toma el nombre de la lista como un argumento y devuelve el número de elementos almacenados actualmente dentro de la lista (en otras palabras, la longitud de la lista).<br>\n"
   ]
  },
  {
   "cell_type": "code",
   "execution_count": 57,
   "metadata": {},
   "outputs": [
    {
     "name": "stdout",
     "output_type": "stream",
     "text": [
      "5\n"
     ]
    }
   ],
   "source": [
    "print(len(numeros))"
   ]
  },
  {
   "cell_type": "markdown",
   "metadata": {},
   "source": [
    "## Eliminando elementos de una lista: del\n",
    "\n",
    ">Cualquier elemento de la lista puede ser eliminado en cualquier momento, esto se hace con una instrucción llamada del (eliminar). Nota: es una instrucción, no una función.<br>\n",
    "\n",
    ">Tienes que apuntar al elemento que quieres eliminar, desaparecerá de la lista y la longitud de la lista se reducirá en uno.<br>\n"
   ]
  },
  {
   "cell_type": "code",
   "execution_count": 58,
   "metadata": {},
   "outputs": [],
   "source": [
    "del numeros[1]"
   ]
  },
  {
   "cell_type": "code",
   "execution_count": 59,
   "metadata": {},
   "outputs": [
    {
     "name": "stdout",
     "output_type": "stream",
     "text": [
      "4\n",
      "[111, 7, 2, 1]\n"
     ]
    }
   ],
   "source": [
    "print(len(numeros))\n",
    "print(numeros) \n"
   ]
  },
  {
   "cell_type": "code",
   "execution_count": 60,
   "metadata": {},
   "outputs": [
    {
     "ename": "IndexError",
     "evalue": "list index out of range",
     "output_type": "error",
     "traceback": [
      "\u001b[1;31m---------------------------------------------------------------------------\u001b[0m",
      "\u001b[1;31mIndexError\u001b[0m                                Traceback (most recent call last)",
      "\u001b[1;32m<ipython-input-60-103bb54553e9>\u001b[0m in \u001b[0;36m<module>\u001b[1;34m\u001b[0m\n\u001b[1;32m----> 1\u001b[1;33m \u001b[0mprint\u001b[0m\u001b[1;33m(\u001b[0m\u001b[0mnumeros\u001b[0m\u001b[1;33m[\u001b[0m\u001b[1;36m4\u001b[0m\u001b[1;33m]\u001b[0m\u001b[1;33m)\u001b[0m\u001b[1;33m\u001b[0m\u001b[1;33m\u001b[0m\u001b[0m\n\u001b[0m",
      "\u001b[1;31mIndexError\u001b[0m: list index out of range"
     ]
    }
   ],
   "source": [
    "# No puedes acceder a un elemento que no existe \n",
    "print(numeros[4])"
   ]
  },
  {
   "cell_type": "code",
   "execution_count": 66,
   "metadata": {},
   "outputs": [
    {
     "name": "stdout",
     "output_type": "stream",
     "text": [
      "[1, 2, 4]\n"
     ]
    }
   ],
   "source": [
    "miLista = [1, 2, 3, 4]\n",
    "del miLista[2]\n",
    "print(miLista) # salida: [1, 2, 4]\n",
    "\n",
    "del miLista  # borra toda la lista \n"
   ]
  },
  {
   "cell_type": "markdown",
   "metadata": {},
   "source": [
    "## Los índices negativos son válidos\n",
    "\n",
    ">Un elemento con un índice igual a -1 es el último en la lista.<br>\n",
    "\n",
    ">Del mismo modo, el elemento con un índice igual a -2 es el anterior al último en la lista.<br>\n"
   ]
  },
  {
   "cell_type": "code",
   "execution_count": 62,
   "metadata": {},
   "outputs": [
    {
     "name": "stdout",
     "output_type": "stream",
     "text": [
      "1\n"
     ]
    }
   ],
   "source": [
    "print(numeros[-1])"
   ]
  },
  {
   "cell_type": "code",
   "execution_count": 63,
   "metadata": {},
   "outputs": [
    {
     "name": "stdout",
     "output_type": "stream",
     "text": [
      "2\n"
     ]
    }
   ],
   "source": [
    "print(numeros[-2])"
   ]
  },
  {
   "cell_type": "markdown",
   "metadata": {},
   "source": [
    "## Agregar elementos a una lista: append() e insert()\n",
    "\n",
    ">Un nuevo elemento puede ser añadido al final de la lista existente:lista.append(valor)<br>\n",
    "\n",
    ">El método insert() es un poco más inteligente: puede agregar un nuevo elemento en cualquier lugar de la lista, no solo al final.lista.insert(ubicación,valor)  <br>\n",
    "\n",
    "insert() Toma dos argumentos:\n",
    "\n",
    "•\tEl primero muestra la ubicación requerida del elemento a insertar. Nota: todos los elementos existentes que ocupan ubicaciones a la derecha del nuevo elemento (incluido el que está en la posición indicada) se desplazan a la derecha, para hacer espacio para el nuevo elemento.\n",
    "\n",
    "•\tEl segundo es el elemento a insertar.\n",
    "\n"
   ]
  },
  {
   "cell_type": "code",
   "execution_count": 65,
   "metadata": {},
   "outputs": [
    {
     "name": "stdout",
     "output_type": "stream",
     "text": [
      "[5, 4, 3, 2, 1]\n"
     ]
    }
   ],
   "source": [
    "# Puedes iniciar la vida de una lista creándola vacía (esto se hace con un par de corchetes vacíos) y luego agregar nuevos elementos según sea necesario.\n",
    "\n",
    "miLista = [] # creando una lista vacía\n",
    "\n",
    "for i in range(5):\n",
    "    miLista.insert(0, i + 1)\n",
    "\n",
    "print(miLista)"
   ]
  },
  {
   "cell_type": "code",
   "execution_count": 67,
   "metadata": {},
   "outputs": [
    {
     "name": "stdout",
     "output_type": "stream",
     "text": [
      "[6, 2, 3, 4, 5, 1]\n"
     ]
    }
   ],
   "source": [
    "# ¿Cuál es la salida del siguiente fragmento de código?\n",
    "lst = [1, 2, 3, 4, 5]\n",
    "lst.insert(1, 6)\n",
    "del lst[0]\n",
    "lst.append(1)\n",
    "\n",
    "print(lst) \n"
   ]
  },
  {
   "cell_type": "code",
   "execution_count": 68,
   "metadata": {},
   "outputs": [
    {
     "name": "stdout",
     "output_type": "stream",
     "text": [
      "[1, 3, 6, 10, 15]\n"
     ]
    }
   ],
   "source": [
    "# ¿Cuál es la salida del siguiente fragmento de código?\n",
    "lst = [1, 2, 3, 4, 5]\n",
    "lst2 = []\n",
    "agregar = 0\n",
    "\n",
    "for number in lst:\n",
    "    agregar += number\n",
    "    lst2.append (agregar)\n",
    "\n",
    "print(lst2) \n"
   ]
  },
  {
   "cell_type": "code",
   "execution_count": 69,
   "metadata": {},
   "outputs": [
    {
     "ename": "NameError",
     "evalue": "name 'lst' is not defined",
     "output_type": "error",
     "traceback": [
      "\u001b[1;31m---------------------------------------------------------------------------\u001b[0m",
      "\u001b[1;31mNameError\u001b[0m                                 Traceback (most recent call last)",
      "\u001b[1;32m<ipython-input-69-755f6caea63f>\u001b[0m in \u001b[0;36m<module>\u001b[1;34m\u001b[0m\n\u001b[0;32m      2\u001b[0m \u001b[0mlst\u001b[0m \u001b[1;33m=\u001b[0m \u001b[1;33m[\u001b[0m\u001b[1;33m]\u001b[0m\u001b[1;33m\u001b[0m\u001b[1;33m\u001b[0m\u001b[0m\n\u001b[0;32m      3\u001b[0m \u001b[1;32mdel\u001b[0m \u001b[0mlst\u001b[0m\u001b[1;33m\u001b[0m\u001b[1;33m\u001b[0m\u001b[0m\n\u001b[1;32m----> 4\u001b[1;33m \u001b[0mprint\u001b[0m\u001b[1;33m(\u001b[0m\u001b[0mlst\u001b[0m\u001b[1;33m)\u001b[0m\u001b[1;33m\u001b[0m\u001b[1;33m\u001b[0m\u001b[0m\n\u001b[0m",
      "\u001b[1;31mNameError\u001b[0m: name 'lst' is not defined"
     ]
    }
   ],
   "source": [
    "#¿Qué sucede cuando ejecutas el siguiente fragmento de código?\n",
    "lst = []\n",
    "del lst\n",
    "print(lst) \n"
   ]
  },
  {
   "cell_type": "code",
   "execution_count": 70,
   "metadata": {},
   "outputs": [
    {
     "name": "stdout",
     "output_type": "stream",
     "text": [
      "[2, 3]\n",
      "3\n"
     ]
    }
   ],
   "source": [
    "#¿Cuál es la salida del siguiente fragmento de código?\n",
    "lst = [1, [2, 3], 4]\n",
    "print(lst[1])\n",
    "print(len(lst)) \n"
   ]
  },
  {
   "cell_type": "code",
   "execution_count": null,
   "metadata": {},
   "outputs": [],
   "source": []
  }
 ],
 "metadata": {
  "kernelspec": {
   "display_name": "Python 3",
   "language": "python",
   "name": "python3"
  },
  "language_info": {
   "codemirror_mode": {
    "name": "ipython",
    "version": 3
   },
   "file_extension": ".py",
   "mimetype": "text/x-python",
   "name": "python",
   "nbconvert_exporter": "python",
   "pygments_lexer": "ipython3",
   "version": "3.8.5"
  }
 },
 "nbformat": 4,
 "nbformat_minor": 4
}
