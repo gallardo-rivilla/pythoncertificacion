{
 "cells": [
  {
   "cell_type": "markdown",
   "metadata": {},
   "source": [
    "# Módulo 2: Tipos de datos, variables, operaciones básicas de entrada y salida, operadores básicos\n",
    "----------------------------------------------------"
   ]
  },
  {
   "cell_type": "markdown",
   "metadata": {},
   "source": [
    "##  Ejercicio 1\n",
    "-------------------------------------------\n",
    "\n",
    "Realiza un programa que lea 2 números por teclado y determine los siguientes aspectos (es suficiene con mostrar True o False):\n",
    "\n",
    "+ Si los dos números son iguales\n",
    "+ Si los dos números son diferentes\n",
    "+ Si el primero es mayor que el segundo\n",
    "+ Si el segundo es mayor o igual que el primero"
   ]
  },
  {
   "cell_type": "code",
   "execution_count": 1,
   "metadata": {},
   "outputs": [
    {
     "name": "stdout",
     "output_type": "stream",
     "text": [
      "Introduce el primer número: 2\n",
      "Introduce el segundo número: 5\n",
      "¿Son iguales?  False\n",
      "¿Son diferentes? True\n",
      "¿El primero es mayor que el segundo? False\n",
      "¿El segundo es mayor o igual que el primero? True\n"
     ]
    }
   ],
   "source": [
    "n1 = float( input(\"Introduce el primer número: \") )\n",
    "n2 = float( input(\"Introduce el segundo número: \") )\n",
    "\n",
    "print(\"¿Son iguales? \", n1 == n2)\n",
    "print(\"¿Son diferentes?\", n1 != n2)\n",
    "print(\"¿El primero es mayor que el segundo?\", n1 > n2)\n",
    "print(\"¿El segundo es mayor o igual que el primero?\", n1 <= n2)"
   ]
  },
  {
   "cell_type": "markdown",
   "metadata": {},
   "source": [
    "##  Ejercicio 2\n",
    "-------------------------------------------\n",
    "\n",
    "Utilizando operadores lógicos, determina si una cadena de texto introducida por el usuario tiene una longitud mayor o igual que 3 y a su vez es menor que 10 (es suficiene con mostrar True o False):"
   ]
  },
  {
   "cell_type": "code",
   "execution_count": 2,
   "metadata": {},
   "outputs": [
    {
     "name": "stdout",
     "output_type": "stream",
     "text": [
      "Escribe una cadena: Alfonso\n",
      "¿La longitud de la cadena es mayor o igual que 3 y menor que 10? True\n"
     ]
    }
   ],
   "source": [
    "cadena = input(\"Escribe una cadena: \")\n",
    "print(\"¿La longitud de la cadena es mayor o igual que 3 y menor que 10?\", len(cadena) >= 3 and len(cadena) < 10 )"
   ]
  },
  {
   "cell_type": "markdown",
   "metadata": {},
   "source": [
    "##  Ejercicio 3\n",
    "-------------------------------------------\n",
    "\n",
    "Realiza un programa que cumpla el siguiente algoritmo utilizando siempre que sea posible operadores en asignación:\n",
    "\n",
    "+ Guarda en una variable numero_magico el valor 12345679 (sin el 8)\n",
    "+ Lee por pantalla otro numero_usuario, especifica que sea entre 1 y 9 (asegúrate que sea un número entero)\n",
    "+ Multiplica el numero_usuario por 9 en sí mismo\n",
    "+ Multiplica el numero_magico por el numero_usuario en sí mismo\n",
    "+ Finalmente muestra el valor final del numero_magico por pantalla\n"
   ]
  },
  {
   "cell_type": "code",
   "execution_count": 3,
   "metadata": {},
   "outputs": [
    {
     "name": "stdout",
     "output_type": "stream",
     "text": [
      "Introduce un número del 1 al 9: 5\n",
      "El número mágico es: 555555555\n"
     ]
    }
   ],
   "source": [
    "numero_magico = 12345679\n",
    "numero_usuario = int(input(\"Introduce un número del 1 al 9: \"))\n",
    "numero_usuario *= 9\n",
    "numero_magico *= numero_usuario\n",
    "print(\"El número mágico es:\", numero_magico)"
   ]
  },
  {
   "cell_type": "markdown",
   "metadata": {},
   "source": [
    "##  Ejercicio 4\n",
    "-------------------------------------------\n",
    "\n",
    "Programa que transforma un tiempo dado en segundos en sus horas, minutos y segundos correspondientes\n",
    "\n",
    "Ejemplo: Introducir el dato 174452 segundos, dando como resultado: 48 horas 27 minutos y 32 segundos."
   ]
  },
  {
   "cell_type": "code",
   "execution_count": 4,
   "metadata": {},
   "outputs": [
    {
     "name": "stdout",
     "output_type": "stream",
     "text": [
      "Dime el tiempo en segundos:174452\n",
      "Tiempo 48 h, 27 m, 32 s\n"
     ]
    }
   ],
   "source": [
    "segundos = int(input(\"Dime el tiempo en segundos:\"))\n",
    "\n",
    "minutos = segundos // 60 #Pasamos los segundos a minutos\n",
    "segundos_resto = segundos % 60 #Segundos que sobran\n",
    "\n",
    "horas = minutos // 60 #Pasamos los minutos a horas\n",
    "minutos_resto = minutos % 60 #Minutos que sobran\n",
    "\n",
    "print (\"Tiempo\",horas,\"h,\",minutos_resto,\"m,\",segundos_resto,\"s\")"
   ]
  },
  {
   "cell_type": "markdown",
   "metadata": {},
   "source": [
    "##  Ejercicio 5\n",
    "-------------------------------------------\n",
    "\n",
    "Escribir un nombre y convertir minuscula,mayuscula y primera en mayuscula"
   ]
  },
  {
   "cell_type": "code",
   "execution_count": 5,
   "metadata": {},
   "outputs": [
    {
     "name": "stdout",
     "output_type": "stream",
     "text": [
      "¿Cómo te llamas? Alfonso Gallardo\n",
      "alfonso gallardo\n",
      "ALFONSO GALLARDO\n",
      "Alfonso Gallardo\n"
     ]
    }
   ],
   "source": [
    "name = input(\"¿Cómo te llamas? \")\n",
    "print(name.lower())\n",
    "print(name.upper())\n",
    "print(name.title())"
   ]
  },
  {
   "cell_type": "markdown",
   "metadata": {},
   "source": [
    "##  Ejercicio 6\n",
    "-------------------------------------------\n",
    "Programa que cuenta las ocurrencias de una letra \"a\" introducida por el usuario  y muestra el índice donde está situada"
   ]
  },
  {
   "cell_type": "code",
   "execution_count": 9,
   "metadata": {},
   "outputs": [
    {
     "name": "stdout",
     "output_type": "stream",
     "text": [
      "Introduce una frase de ejemplo:Frase ejemplo ejemplo\n",
      "¿Cuántas ocurrencias de 'a' se encuentran en la frase? 1\n",
      "¿Dónde se encuentra la primera ocurrencia de 'a'? 2\n"
     ]
    }
   ],
   "source": [
    " # Programa que cuenta las ocurrencias de una letra\n",
    "frase= input(\"Introduce una frase de ejemplo:\")\n",
    "num = frase.count(\"a\")\n",
    "\n",
    "print(\"¿Cuántas ocurrencias de 'a' se encuentran en la frase?\", num)\n",
    "if num > 0:\n",
    "    index = frase.find(\"a\")\n",
    "    print(\"¿Dónde se encuentra la primera ocurrencia de 'a'?\", index)\n",
    "    for i in range(1, num):\n",
    "        index = frase.find(\"a\", index + 1)\n",
    "        print(\"La ocurrencia numéro {} de 'a' se encuentra en el índice {}\".format(\n",
    "            i + 1, index))"
   ]
  },
  {
   "cell_type": "code",
   "execution_count": null,
   "metadata": {},
   "outputs": [],
   "source": []
  }
 ],
 "metadata": {
  "kernelspec": {
   "display_name": "Python 3",
   "language": "python",
   "name": "python3"
  },
  "language_info": {
   "codemirror_mode": {
    "name": "ipython",
    "version": 3
   },
   "file_extension": ".py",
   "mimetype": "text/x-python",
   "name": "python",
   "nbconvert_exporter": "python",
   "pygments_lexer": "ipython3",
   "version": "3.8.5"
  }
 },
 "nbformat": 4,
 "nbformat_minor": 4
}
