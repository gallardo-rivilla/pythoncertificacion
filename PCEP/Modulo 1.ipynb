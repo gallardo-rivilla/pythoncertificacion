{
 "cells": [
  {
   "cell_type": "markdown",
   "metadata": {},
   "source": [
    "# Módulo 1: Fundamentos de Programación en Python\n",
    "----------------------------------------------------"
   ]
  },
  {
   "cell_type": "markdown",
   "metadata": {},
   "source": [
    "![Python](https://cosasdedevs.com/media/sections/images/python.png)\n",
    "\n",
    ">Las computadoras también tienen su propio lenguaje, llamado ___lenguaje máquina___, el cual es muy rudimentario.\n",
    "\n",
    ">Un conjunto completo de comandos conocidos se llama __lista de instrucciones__, a veces abreviada IL (por sus siglas en inglés de Instruction List).\n",
    "\n",
    ">Un programa escrito en un lenguaje de programación de alto nivel se llama __código fuente__ (en contraste con el código de máquina ejecutado por las computadoras).\n",
    "\n",
    ">El archivo que contiene el código fuente se llama __archivo fuente__.\n"
   ]
  },
  {
   "cell_type": "markdown",
   "metadata": {},
   "source": [
    "\n",
    "![Python](https://slideplayer.es/slide/3882110/12/images/21/Python+Caracter%C3%ADsticas+Lenguaje+multiprop%C3%B3sito.+Lenguaje+interpretado..jpg)"
   ]
  },
  {
   "cell_type": "markdown",
   "metadata": {},
   "source": [
    "### ⚡ COMPILACIÓN \n",
    "---------------------------------------------------\n",
    "\n",
    ">El programa fuente se traduce una vez.\n",
    "\n",
    ">Se obtiene un archivo (por ejemplo, un archivo .exe si el código está diseñado para ejecutarse en MS Windows) que contiene el código de la máquina.\n",
    "\n",
    ">Puedes distribuir el archivo en todo el mundo; el programa que realiza esta traducción se llama compilador o traductor.\n",
    "\n",
    "\n",
    "### ✨ INTERPRETACIÓN\n",
    "---------------------------------------------------\n",
    "\n",
    ">Tú (o cualquier usuario del código) puedes traducir el programa fuente cada vez que se ejecute.\n",
    "\n",
    ">También significa que no puede distribuir el código fuente tal como está, porque el usuario final también necesita que el intérprete lo ejecute."
   ]
  },
  {
   "cell_type": "markdown",
   "metadata": {},
   "source": [
    "## 📢 Compilación vs. Interpretación - Ventajas y Desventajas\n",
    "\n",
    "<table style=\"width:100%\" align=\"center\">\n",
    "  <tr>\n",
    "    <th> </th>\n",
    "    <th>COMPILACIÓN</th>\n",
    "    <th>INTERPRETACIÓN</th>\n",
    "  </tr>\n",
    "  <tr>\n",
    "    <td><b>VENTAJAS</b></td>\n",
    "    <td>La ejecución del código traducido suele ser más rápida.\n",
    "Solo el usuario debe tener el compilador; el usuario final puede usar el código sin él.\n",
    "El código traducido se almacena en lenguaje máquina, ya que es muy difícil de entender, es probable que tus propios inventos y trucos de programación sigan siendo secreto.\n",
    "</td>\n",
    "    <td>Puede ejecutar el código en cuanto lo complete; no hay fases adicionales de traducción.\n",
    "El código se almacena utilizando el lenguaje de programación, no el de la máquina; esto significa que puede ejecutarse en computadoras que utilizan diferentes lenguajes máquina; no compila el código por separado para cada arquitectura diferente.\n",
    "</td>\n",
    "  </tr>\n",
    "  <tr>\n",
    "    <td><b>DESVENTAJAS</b></td>\n",
    "    <td>La compilación en sí misma puede llevar mucho tiempo; es posible que no puedas ejecutar tu código inmediatamente después de cualquier modificación.\n",
    "Tienes que tener tantos compiladores como plataformas de hardware en los que deseas que se ejecute su código.\n",
    "</td>\n",
    "    <td>No esperes que la interpretación incremente tu código a alta velocidad: tu código compartirá la potencia de la computadora con el intérprete, por lo que no puede ser realmente rápido.\n",
    "Tanto tú como el usuario final deben tener el intérprete para ejecutar su código.\n",
    "</td>\n",
    "  </tr>\n",
    "</table>"
   ]
  },
  {
   "cell_type": "markdown",
   "metadata": {},
   "source": [
    "## 🤷‍♀️ ¿Qué es Python?\n",
    "--------------------------------------------\n",
    ">Es un lenguaje de programación de alto nivel, interpretado, orientado a objetos y de uso generalizado con semántica dinámica\n",
    "\n",
    ">El nombre del lenguaje de programación Python proviene de una vieja serie de comedia de la BBC llamada Monty Python's Flying Circus.\n",
    "\n",
    ">El creador de Python nombró el lenguaje en honor del programa de televisión\n",
    "\n",
    ">Si deseas programar en Python, necesitarás el intérprete de Python. No podrás ejecutar tu código sin él. Afortunadamente, Python es gratis. Esta es una de sus ventajas más importantes.\n",
    "\n"
   ]
  },
  {
   "cell_type": "markdown",
   "metadata": {},
   "source": [
    "## 🙌 ¿Quién creó Python?\n",
    "\n",
    "\n",
    ">Fue creado por Guido van Rossum, nacido en 1956 en Haarlem, Países Bajos. \n",
    "\n",
    ">Por supuesto, Guido van Rossum no desarrolló y evolucionó todos los componentes de Python\n",
    "\n",
    ">Un proyecto de programación por hobby…\n",
    "\n",
    "\n",
    "### La historia cuenta que...\n",
    "👉 En diciembre de 1989, estaba buscando un proyecto de programación de \"pasatiempo\" que me mantendría ocupado durante la semana de Navidad. Mi oficina (...) estaría cerrada, pero tenía una computadora en casa y no mucho más en mis manos. Decidí escribir un intérprete para el nuevo lenguaje de scripting en el que había estado pensando últimamente: un descendiente de ABC que atraería a los hackers de Unix / C. Elegí Python como un título de trabajo para el proyecto, estando en un estado de ánimo ligeramente irreverente (y un gran fanático de Monty Python's Flying Circus).\n",
    "\n",
    "\n",
    "\n",
    " ## Guido van Rossum\n",
    "![Guido van Rossum](https://cms.qz.com/wp-content/uploads/2019/05/Guido-van-Rossum-e1558635088256.jpg?quality=75&strip=all&w=900&h=900&crop=1)"
   ]
  },
  {
   "cell_type": "markdown",
   "metadata": {},
   "source": [
    "## 🏆 Los objetivos de Python\n",
    "\n",
    ">En 1999, Guido van Rossum definió sus objetivos para Python:\n",
    "\n",
    "![Objetivos](https://github.com/gallardo-rivilla/pythoncertificacion/blob/main/images/objetivospython.png?raw=true)\n",
    "\n",
    "1. Fácil e intuitivo\n",
    "2. Código abierto\n",
    "3. Comprensible \n",
    "4. Adecuado para tareas cotidianas\n",
    "\n"
   ]
  },
  {
   "cell_type": "markdown",
   "metadata": {},
   "source": [
    "## Python alias CPython\n",
    "-------------------------------------------\n",
    "![CPython](https://edube.org/uploads/media/default/0001/01/c5fcf01b0078c8c99d004c969424bfae3acf67eb.png)\n",
    "\n",
    ">PSF (Python Software Foundation): una comunidad que tiene como objetivo desarrollar, mejorar, expandir y popularizar Python y su entorno. \n",
    "\n",
    ">El presidente del PSF es el propio Guido van Rossum, y por esta razón, estos Pythons se llaman canónicos.\n",
    "\n",
    "## Python alias Cython\n",
    "-------------------------------------------\n",
    "![Cython](https://upload.wikimedia.org/wikipedia/en/thumb/c/ce/Cython-logo.svg/1200px-Cython-logo.svg.png)\n",
    "\n",
    ">Cython es una de las posibles soluciones al rasgo de Python más doloroso: la falta de eficiencia. \n",
    "\n",
    ">Los cálculos matemáticos grandes y complejos pueden ser fácilmente codificados en Python (mucho más fácil que en \"C\" o en cualquier otro lenguaje tradicional), pero la ejecución del código resultante puede requerir mucho tiempo. \n",
    "\n",
    ">Esto es lo que pretende hacer Cython: traducir automáticamente el código de Python (limpio y claro, pero no demasiado rápido) al código \"C\" (complicado y hablador, pero ágil).\n",
    "\n",
    "## Python alias Jython\n",
    "-------------------------------------------\n",
    "![Jython](https://www.jython.org/assets/jython.png)\n",
    "\n",
    ">\"J\" es para \"Java\". Imagina un Python escrito en Java en lugar de C. Esto es útil, por ejemplo, si desarrollas sistemas grandes y complejos escritos completamente en Java y deseas agregarles cierta flexibilidad de Python. \n",
    "\n",
    ">El tradicional CPython puede ser difícil de integrar en un entorno de este tipo, ya que C y Java viven en mundos completamente diferentes y no comparten muchas ideas comunes\n",
    "\n",
    "## Python alias PyPy\n",
    "-------------------------------------------\n",
    "![PyPy](https://upload.wikimedia.org/wikipedia/commons/b/b0/Pypy_logo.png)\n",
    "\n",
    "> PyPy - un Python dentro de un Python. En otras palabras, representa un entorno de Python escrito en un lenguaje similar a Python llamado RPython (Restricted Python). PyPy es compatible con el lenguaje Python 3."
   ]
  },
  {
   "cell_type": "markdown",
   "metadata": {},
   "source": [
    "## Herramientas para comenzar a trabajar con Python…\n",
    "\n",
    "![Herramientas](https://github.com/gallardo-rivilla/pythoncertificacion/blob/main/images/herramientaspython.JPG?raw=true)"
   ]
  },
  {
   "cell_type": "markdown",
   "metadata": {},
   "source": [
    "## 🤦‍♂️¿Qué es  IDLE?\n",
    "\n",
    "\n",
    "![IDLE](https://www.mclibre.org/consultar/python/img/idle/idle-16.png)\n",
    "\n",
    ">IDLE es un acrónimo de: Integrated Development and Learning Environment (Desarrollo Integrado y Entorno de Aprendizaje).\n",
    "\n"
   ]
  },
  {
   "cell_type": "markdown",
   "metadata": {},
   "source": [
    "## Un poco de historia de Python...\n",
    "\n",
    "![Historia Python](https://blog.simpliv.com/wp-content/uploads/2020/01/Image-13-1.jpg)"
   ]
  },
  {
   "cell_type": "markdown",
   "metadata": {},
   "source": [
    "## 🕯  El Zen de Python\n",
    "\n",
    "__La filosofía puede resumirse por << El Zen de Python >>__\n",
    "\n",
    "1. Hermoso es mejor que feo\n",
    "2. Explícito es mejor que implícito\n",
    "3. Simple es mejor que complejo\n",
    "4. Complejo es mejor que complicado\n",
    "5. Plano es mejor que anidado\n",
    "6. Disperso es mejor que lento\n",
    "7. La legibilidad cuenta\n",
    "8. Los caso especiales no son suficientemente especiales como para romper las reglas\n",
    "9. Lo pragmático gana a la pureza\n",
    "10. Los errores nunca deberían dejarse pasar silenciosamente, a menos que se silencien explicitamente.\n",
    "11. Cuando te enfrentes a la ambiguedad, rechaza la tentación de adivinar\n",
    "12. Ahora es mejor que nunca\n",
    "13. Si la implementación es dificil de explicar, es una mala idea"
   ]
  },
  {
   "cell_type": "code",
   "execution_count": null,
   "metadata": {},
   "outputs": [],
   "source": []
  }
 ],
 "metadata": {
  "kernelspec": {
   "display_name": "Python 3",
   "language": "python",
   "name": "python3"
  },
  "language_info": {
   "codemirror_mode": {
    "name": "ipython",
    "version": 3
   },
   "file_extension": ".py",
   "mimetype": "text/x-python",
   "name": "python",
   "nbconvert_exporter": "python",
   "pygments_lexer": "ipython3",
   "version": "3.8.5"
  }
 },
 "nbformat": 4,
 "nbformat_minor": 4
}
