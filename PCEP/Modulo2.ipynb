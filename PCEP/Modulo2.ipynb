{
 "cells": [
  {
   "cell_type": "markdown",
   "metadata": {},
   "source": [
    "# Módulo 2: Tipos de datos, variables, operaciones básicas de entrada y salida, operadores básicos\n",
    "----------------------------------------------------"
   ]
  },
  {
   "cell_type": "markdown",
   "metadata": {},
   "source": [
    "# 📢La función print() 🚀\n",
    "\n",
    "------------------------------------------------"
   ]
  },
  {
   "cell_type": "markdown",
   "metadata": {},
   "source": [
    "## ¿Qué argumentos espera print()?\n",
    "\n",
    "<b>Cualquiera. </b>\n",
    "\n",
    "\n",
    ">print() puede operar con prácticamente todos los tipos de datos ofrecidos por Python. Cadenas, números, caracteres, valores lógicos, objetos. <br>\n",
    "\n",
    "Cualquiera de estos se puede pasar con éxito a print().\n"
   ]
  },
  {
   "cell_type": "code",
   "execution_count": 4,
   "metadata": {},
   "outputs": [
    {
     "name": "stdout",
     "output_type": "stream",
     "text": [
      "¡Hola, Mundo!\n"
     ]
    }
   ],
   "source": [
    "print(\"¡Hola, Mundo!\")"
   ]
  },
  {
   "cell_type": "markdown",
   "metadata": {},
   "source": [
    "-------------------------------------------------------------------------------------\n",
    "## ¿Qué valor evalúa la función print()?\n",
    "\n",
    "👉 <b>Ninguno.</b>\n",
    "\n",
    "\n",
    "Su efecto es suficiente - print() no evalúa nada. 🤷‍♂️\n",
    "\n",
    "✔ La invocación de  vacía no esta tan vacía como se esperaba - genera una línea vacía (esta interpretación también es correcta) su salida es solo una nueva línea.\n"
   ]
  },
  {
   "cell_type": "code",
   "execution_count": 5,
   "metadata": {},
   "outputs": [
    {
     "name": "stdout",
     "output_type": "stream",
     "text": [
      "\n"
     ]
    }
   ],
   "source": [
    "# Se no paso nada a print, no arroja error alguno\n",
    "print() "
   ]
  },
  {
   "cell_type": "markdown",
   "metadata": {},
   "source": [
    "👉Si deseas colocar solo una barra invertida dentro de una cadena, no olvides su naturaleza de escape: tienes que duplicarla, por ejemplo, la siguiente invocación causará un error:\n",
    "\n",
    "print(\"\\\")😢\n",
    "\n",
    "Mientras que esta no lo hará:\n",
    "\n",
    "print(\"\\\\\")👌\n"
   ]
  },
  {
   "cell_type": "code",
   "execution_count": 8,
   "metadata": {},
   "outputs": [
    {
     "ename": "SyntaxError",
     "evalue": "EOL while scanning string literal (<ipython-input-8-dff1232de400>, line 1)",
     "output_type": "error",
     "traceback": [
      "\u001b[1;36m  File \u001b[1;32m\"<ipython-input-8-dff1232de400>\"\u001b[1;36m, line \u001b[1;32m1\u001b[0m\n\u001b[1;33m    print(\"\\\")\u001b[0m\n\u001b[1;37m              ^\u001b[0m\n\u001b[1;31mSyntaxError\u001b[0m\u001b[1;31m:\u001b[0m EOL while scanning string literal\n"
     ]
    }
   ],
   "source": [
    "print(\"\\\")"
   ]
  },
  {
   "cell_type": "code",
   "execution_count": 9,
   "metadata": {},
   "outputs": [
    {
     "name": "stdout",
     "output_type": "stream",
     "text": [
      "\\\n"
     ]
    }
   ],
   "source": [
    "print(\"\\\\\")"
   ]
  },
  {
   "cell_type": "markdown",
   "metadata": {},
   "source": [
    "## La barra invertida (\\n).\n",
    "\n",
    "👉 La letra  colocada después de la barra invertida proviene de la palabra newline (nueva linea).\n"
   ]
  },
  {
   "cell_type": "code",
   "execution_count": 31,
   "metadata": {},
   "outputs": [
    {
     "name": "stdout",
     "output_type": "stream",
     "text": [
      "Esto es un ejemplo de \n",
      "nueva linea\n"
     ]
    }
   ],
   "source": [
    "print(\"Esto es un ejemplo de \\nnueva linea\")"
   ]
  },
  {
   "cell_type": "markdown",
   "metadata": {},
   "source": [
    "## Argumento end\n",
    "\n",
    "👉 La función  tiene dos argumentos de palabras clave que se pueden utilizar para estos propósitos. El primero de ellos se llama end\n"
   ]
  },
  {
   "cell_type": "code",
   "execution_count": 12,
   "metadata": {},
   "outputs": [
    {
     "name": "stdout",
     "output_type": "stream",
     "text": [
      "Mi nombre es Alfonso,Gallardo.\n"
     ]
    }
   ],
   "source": [
    "print(\"Mi nombre es\", \"Alfonso,\", end=\"\")\n",
    "print(\"Gallardo.\")\n"
   ]
  },
  {
   "cell_type": "markdown",
   "metadata": {},
   "source": [
    "## Argumento sep\n",
    "\n",
    "👉 Se usa para elegir el separador deseado"
   ]
  },
  {
   "cell_type": "code",
   "execution_count": 14,
   "metadata": {},
   "outputs": [
    {
     "name": "stdout",
     "output_type": "stream",
     "text": [
      "Mi-nombre-es-Alfonso-Gallardo.\n"
     ]
    }
   ],
   "source": [
    "print(\"Mi\", \"nombre\", \"es\", \"Alfonso\", \"Gallardo.\", sep=\"-\")"
   ]
  },
  {
   "cell_type": "markdown",
   "metadata": {},
   "source": [
    "## Uso conjunto de end - sep - \\n\n",
    "\n",
    "👉 Podemos jugar con los argumentos para producir diferentes salidas:"
   ]
  },
  {
   "cell_type": "code",
   "execution_count": 16,
   "metadata": {},
   "outputs": [
    {
     "name": "stdout",
     "output_type": "stream",
     "text": [
      "Mi_nombre_es*"
     ]
    }
   ],
   "source": [
    "print(\"Mi\", \"nombre\", \"es\", sep=\"_\", end=\"*\")"
   ]
  },
  {
   "cell_type": "code",
   "execution_count": 17,
   "metadata": {},
   "outputs": [
    {
     "name": "stdout",
     "output_type": "stream",
     "text": [
      "Alfonso*Gallardo.*\n"
     ]
    }
   ],
   "source": [
    "print(\"Alfonso\", \"Gallardo.\", sep=\"*\", end=\"*\\n\")"
   ]
  },
  {
   "cell_type": "code",
   "execution_count": 19,
   "metadata": {},
   "outputs": [
    {
     "name": "stdout",
     "output_type": "stream",
     "text": [
      "Fundamentos***Programación\n",
      "***en...Python\n"
     ]
    }
   ],
   "source": [
    "print(\"Fundamentos\",\"Programación\\n\",\"en\", sep=\"***\", end=\"...\")\n",
    "print(\"Python\")"
   ]
  },
  {
   "cell_type": "markdown",
   "metadata": {},
   "source": [
    "## Impresión multilínea\n",
    "\n",
    ">Puede utilizar comillas triples para imprimir cadenas en varias líneas para facilitar la lectura del texto o crear un diseño especial basado en texto. \n",
    " <br>"
   ]
  },
  {
   "cell_type": "code",
   "execution_count": 20,
   "metadata": {},
   "outputs": [
    {
     "name": "stdout",
     "output_type": "stream",
     "text": [
      "\n",
      "+==================================+\n",
      "| Bienvenido a mi juego, muggle!   |\n",
      "| Introduce un número entero       |    \n",
      "| y adivina qué número he          |\n",
      "| elegido para ti.                 |\n",
      "| Entonces,                        |\n",
      "| ¿Cuál es el número secreto?      |\n",
      "+==================================+\n",
      "\n"
     ]
    }
   ],
   "source": [
    "print(\n",
    "\"\"\"\n",
    "+==================================+\n",
    "| Bienvenido a mi juego, muggle!   |\n",
    "| Introduce un número entero       |    \n",
    "| y adivina qué número he          |\n",
    "| elegido para ti.                 |\n",
    "| Entonces,                        |\n",
    "| ¿Cuál es el número secreto?      |\n",
    "+==================================+\n",
    "\"\"\")\n"
   ]
  },
  {
   "cell_type": "markdown",
   "metadata": {},
   "source": [
    "## Impresión de tipos de datos type()\n",
    "\n",
    "👉 La función print puede imprimir una cadena o un número"
   ]
  },
  {
   "cell_type": "code",
   "execution_count": 23,
   "metadata": {},
   "outputs": [
    {
     "name": "stdout",
     "output_type": "stream",
     "text": [
      "<class 'int'>\n",
      "<class 'str'>\n"
     ]
    }
   ],
   "source": [
    "print(type(2)) # ejemplo de int\n",
    "print(type(\"2\")) #ejemplo de string"
   ]
  },
  {
   "cell_type": "code",
   "execution_count": 32,
   "metadata": {},
   "outputs": [
    {
     "ename": "TypeError",
     "evalue": "can only concatenate str (not \"int\") to str",
     "output_type": "error",
     "traceback": [
      "\u001b[1;31m---------------------------------------------------------------------------\u001b[0m",
      "\u001b[1;31mTypeError\u001b[0m                                 Traceback (most recent call last)",
      "\u001b[1;32m<ipython-input-32-1dc5a1555121>\u001b[0m in \u001b[0;36m<module>\u001b[1;34m\u001b[0m\n\u001b[1;32m----> 1\u001b[1;33m \u001b[0mprint\u001b[0m\u001b[1;33m(\u001b[0m\u001b[1;34m\"2\"\u001b[0m \u001b[1;33m+\u001b[0m \u001b[1;36m2\u001b[0m\u001b[1;33m)\u001b[0m\u001b[1;33m\u001b[0m\u001b[1;33m\u001b[0m\u001b[0m\n\u001b[0m",
      "\u001b[1;31mTypeError\u001b[0m: can only concatenate str (not \"int\") to str"
     ]
    }
   ],
   "source": [
    "print(\"2\" + 2) # Si intentamos sumar una cadena con un entero dará error"
   ]
  },
  {
   "cell_type": "code",
   "execution_count": 33,
   "metadata": {},
   "outputs": [
    {
     "name": "stdout",
     "output_type": "stream",
     "text": [
      "4\n",
      "22\n"
     ]
    }
   ],
   "source": [
    "print(2 + 2) # Ejemplo suma enteros\n",
    "print (\"2\" + \"2\") # Ejemplo concatenación cadenas"
   ]
  },
  {
   "cell_type": "markdown",
   "metadata": {},
   "source": [
    "## Uso de las f-strings\n",
    "\n",
    "✨ Python 3.6 en adelante.\n",
    "\n",
    "👉 A partir de esta versión se introdujeron las f-strings o literals strings, para resolver un poco  problemas de legibilidad"
   ]
  },
  {
   "cell_type": "code",
   "execution_count": 26,
   "metadata": {},
   "outputs": [
    {
     "name": "stdout",
     "output_type": "stream",
     "text": [
      "Mi nombre es Alfonso y mi apellido Gallardo, esto es un ejemplo de uso f-strings\n"
     ]
    }
   ],
   "source": [
    "nombre = 'Alfonso'\n",
    "apellido = 'Gallardo'\n",
    "\n",
    "print(f\"Mi nombre es {nombre} y mi apellido {apellido}, esto es un ejemplo de uso f-strings\")\n"
   ]
  },
  {
   "cell_type": "code",
   "execution_count": 27,
   "metadata": {},
   "outputs": [
    {
     "name": "stdout",
     "output_type": "stream",
     "text": [
      "128\n"
     ]
    }
   ],
   "source": [
    "print(f\"{100 + 28}\")"
   ]
  },
  {
   "cell_type": "code",
   "execution_count": 28,
   "metadata": {},
   "outputs": [
    {
     "name": "stdout",
     "output_type": "stream",
     "text": [
      "175\n"
     ]
    }
   ],
   "source": [
    "print(f\"{25 * 7}\")"
   ]
  },
  {
   "cell_type": "markdown",
   "metadata": {},
   "source": [
    "# 📢Enteros Vs Flotantes 🚀\n",
    "\n",
    "------------------------------------------------"
   ]
  },
  {
   "cell_type": "markdown",
   "metadata": {},
   "source": [
    "## Diferencia entre enteros y flotantes\n",
    "\n",
    "<b>4 (entero) vs 4.0 (flotante)</b>\n",
    "\n",
    "\n",
    ">El punto decimal es esencialmente importante para reconocer números punto-flotantes en Python.<br>\n",
    "\n",
    ">Los Enteros (o simplemente int) son uno de los tipos numéricos que soporta Python. Son números que no tienen una parte fraccionaria, por ejemplo, 256, o -1 (enteros negativos).<br>\n",
    "\n",
    ">Los números Punto-Flotante (o simplemente flotantes) son otro tipo numérico que soporta Python. Son números que contienen (o son capaces de contener) una parte fraccionaria, por ejemplo, 1.27.<br>\n",
    "\n",
    "\n"
   ]
  },
  {
   "cell_type": "code",
   "execution_count": 13,
   "metadata": {},
   "outputs": [
    {
     "name": "stdout",
     "output_type": "stream",
     "text": [
      "16 8.0 8\n"
     ]
    }
   ],
   "source": [
    "print((2**4), (2*4.), (2*4))"
   ]
  },
  {
   "cell_type": "code",
   "execution_count": 14,
   "metadata": {},
   "outputs": [
    {
     "name": "stdout",
     "output_type": "stream",
     "text": [
      "4.0\n"
     ]
    }
   ],
   "source": [
    "print(2.0 * 2)"
   ]
  },
  {
   "cell_type": "code",
   "execution_count": 15,
   "metadata": {},
   "outputs": [
    {
     "name": "stdout",
     "output_type": "stream",
     "text": [
      "<class 'float'>\n"
     ]
    }
   ],
   "source": [
    " x = 2.0 * 4\n",
    "print(type(x))"
   ]
  },
  {
   "cell_type": "code",
   "execution_count": 17,
   "metadata": {},
   "outputs": [
    {
     "name": "stdout",
     "output_type": "stream",
     "text": [
      "-0.5 0.5 0 -1\n"
     ]
    }
   ],
   "source": [
    "print((-2/4), (2/4), (2//4), (-2//4))"
   ]
  },
  {
   "cell_type": "markdown",
   "metadata": {},
   "source": [
    "# 📢Operadores lógicos o booleanos 🚀\n",
    "\n",
    "------------------------------------------------"
   ]
  },
  {
   "cell_type": "markdown",
   "metadata": {},
   "source": [
    "## ¿Qué son los operadores lógicos o booleanos?\n",
    "\n",
    "<b>and, or y not. </b>\n",
    "\n",
    "\n",
    ">A la hora de operar con valores booleanos, tenemos a nuestra disposición los operadores and, or y not. <br>\n",
    "\n",
    "👉  IMPORTANTE: Las operaciones and, or y not realmente no devuelven True o False, sino que devuelven uno de los operandos como veremos en el cuadro de abajo.\n",
    "\n",
    "<table style=\"width:100%\" align=\"center\">\n",
    "  <tr>\n",
    "    <th>Operación</th>\n",
    "    <th>Resultado</th>\n",
    "    <th>Descripción</th>\n",
    "  </tr>\n",
    "  <tr>\n",
    "    <td><b>a or b</b></td>\n",
    "    <td>Si a se evalúa a falso, entonces devuelve b, si no devuelve a</td>\n",
    "    <td>Solo se evalúa el segundo operando si el primero es falso</td>\n",
    "  </tr>\n",
    "  <tr>\n",
    "    <td><b>a and b</b></td>\n",
    "    <td>Si a se evalúa a falso, entonces devuelve a, si no devuelve b</td>\n",
    "    <td>Solo se evalúa el segundo operando si el primero es verdadero</td>\n",
    "  </tr>\n",
    "      <tr>\n",
    "    <td><b>not a</b></td>\n",
    "    <td>Si a se evalúa a falso, entonces devuelve True, si no devuelve False</td>\n",
    "    <td>Tiene menos prioridad que otros operadores no booleanos</td>\n",
    "  </tr>\n",
    "</table>\n",
    "\n"
   ]
  },
  {
   "cell_type": "code",
   "execution_count": 20,
   "metadata": {},
   "outputs": [],
   "source": [
    "x = True\n",
    "y = False"
   ]
  },
  {
   "cell_type": "code",
   "execution_count": 6,
   "metadata": {},
   "outputs": [
    {
     "data": {
      "text/plain": [
       "True"
      ]
     },
     "execution_count": 6,
     "metadata": {},
     "output_type": "execute_result"
    }
   ],
   "source": [
    "x or y"
   ]
  },
  {
   "cell_type": "code",
   "execution_count": 3,
   "metadata": {},
   "outputs": [
    {
     "data": {
      "text/plain": [
       "False"
      ]
     },
     "execution_count": 3,
     "metadata": {},
     "output_type": "execute_result"
    }
   ],
   "source": [
    "x and y"
   ]
  },
  {
   "cell_type": "code",
   "execution_count": 4,
   "metadata": {},
   "outputs": [
    {
     "data": {
      "text/plain": [
       "False"
      ]
     },
     "execution_count": 4,
     "metadata": {},
     "output_type": "execute_result"
    }
   ],
   "source": [
    "not x"
   ]
  },
  {
   "cell_type": "code",
   "execution_count": 10,
   "metadata": {},
   "outputs": [],
   "source": [
    "x=0\n",
    "y=10"
   ]
  },
  {
   "cell_type": "code",
   "execution_count": 11,
   "metadata": {},
   "outputs": [
    {
     "data": {
      "text/plain": [
       "10"
      ]
     },
     "execution_count": 11,
     "metadata": {},
     "output_type": "execute_result"
    }
   ],
   "source": [
    "x or y"
   ]
  },
  {
   "cell_type": "code",
   "execution_count": 12,
   "metadata": {},
   "outputs": [
    {
     "data": {
      "text/plain": [
       "0"
      ]
     },
     "execution_count": 12,
     "metadata": {},
     "output_type": "execute_result"
    }
   ],
   "source": [
    "x and y"
   ]
  },
  {
   "cell_type": "code",
   "execution_count": 13,
   "metadata": {},
   "outputs": [
    {
     "data": {
      "text/plain": [
       "True"
      ]
     },
     "execution_count": 13,
     "metadata": {},
     "output_type": "execute_result"
    }
   ],
   "source": [
    "not x"
   ]
  },
  {
   "cell_type": "markdown",
   "metadata": {},
   "source": [
    "# 📢Operadores de comparación 🚀\n",
    "\n",
    "------------------------------------------------"
   ]
  },
  {
   "cell_type": "markdown",
   "metadata": {},
   "source": [
    "## ¿Qué son los operadores de comparación?\n",
    "\n",
    "<b>True o False </b>\n",
    "\n",
    "\n",
    ">Los operadores de comparación se utilizan, como su nombre indica, para comparar dos o más valores.<br>\n",
    ">Los operadores de comparación se pueden concatenar.<br>\n",
    "\n",
    " 👉 El resultado de estos operadores siempre es True o False. \n",
    " \n",
    "<table style=\"width:100%\" align=\"center\">\n",
    "  <tr>\n",
    "    <th>Operador</th>\n",
    "    <th>Descripción</th>\n",
    "   \n",
    "  </tr>\n",
    "  <tr>\n",
    "    <td><b>></b></td>\n",
    "    <td>Mayor que. True si el operando de la izquierda es estrictamente mayor que el de la derecha; False en caso contrario.</td>\n",
    "    \n",
    "  </tr>\n",
    "  <tr>\n",
    "    <td><b>>=</b></td>\n",
    "    <td>Mayor o igual que. True si el operando de la izquierda es mayor o igual que el de la derecha; False en caso contrario.</td>\n",
    "   \n",
    "  </tr>\n",
    "      <tr>\n",
    "    <td><b>  < </b></td>\n",
    "    <td>Menor que. True si el operando de la izquierda es estrictamente menor que el de la derecha; False en caso contrario.</td>\n",
    "      \n",
    "  </tr>\n",
    "      <tr>\n",
    "    <td><b> <= </b></td>\n",
    "    <td>Menor o igual que. True si el operando de la izquierda es menor o igual que el de la derecha; False en caso contrario.</td>\n",
    "    <tr>\n",
    "    <td><b> == </b></td>\n",
    "    <td>Igual. True si el operando de la izquierda es igual que el de la derecha; False en caso contrario.</td>      \n",
    "  </tr>\n",
    "     <tr>\n",
    "    <td><b>!= </b></td>\n",
    "    <td>Distinto. True si los operandos son distintos; False en caso contrario.</td>      \n",
    "  </tr>\n",
    "</table>\n"
   ]
  },
  {
   "cell_type": "code",
   "execution_count": 36,
   "metadata": {},
   "outputs": [],
   "source": [
    "x = 9\n",
    "y = 1"
   ]
  },
  {
   "cell_type": "code",
   "execution_count": 37,
   "metadata": {},
   "outputs": [
    {
     "data": {
      "text/plain": [
       "False"
      ]
     },
     "execution_count": 37,
     "metadata": {},
     "output_type": "execute_result"
    }
   ],
   "source": [
    "x < y"
   ]
  },
  {
   "cell_type": "code",
   "execution_count": 38,
   "metadata": {},
   "outputs": [
    {
     "data": {
      "text/plain": [
       "True"
      ]
     },
     "execution_count": 38,
     "metadata": {},
     "output_type": "execute_result"
    }
   ],
   "source": [
    "x > y"
   ]
  },
  {
   "cell_type": "code",
   "execution_count": 39,
   "metadata": {},
   "outputs": [
    {
     "data": {
      "text/plain": [
       "False"
      ]
     },
     "execution_count": 39,
     "metadata": {},
     "output_type": "execute_result"
    }
   ],
   "source": [
    "x == y"
   ]
  },
  {
   "cell_type": "code",
   "execution_count": 40,
   "metadata": {},
   "outputs": [
    {
     "data": {
      "text/plain": [
       "True"
      ]
     },
     "execution_count": 40,
     "metadata": {},
     "output_type": "execute_result"
    }
   ],
   "source": [
    "1 < x and x < 20"
   ]
  },
  {
   "cell_type": "code",
   "execution_count": 43,
   "metadata": {},
   "outputs": [
    {
     "data": {
      "text/plain": [
       "True"
      ]
     },
     "execution_count": 43,
     "metadata": {},
     "output_type": "execute_result"
    }
   ],
   "source": [
    "1 < x and x < 20 or 8 != y"
   ]
  },
  {
   "cell_type": "code",
   "execution_count": 44,
   "metadata": {},
   "outputs": [
    {
     "data": {
      "text/plain": [
       "True"
      ]
     },
     "execution_count": 44,
     "metadata": {},
     "output_type": "execute_result"
    }
   ],
   "source": [
    "1 < x and x < 20 or 8 != y and 9 == x"
   ]
  },
  {
   "cell_type": "markdown",
   "metadata": {},
   "source": [
    "# 📢Operadores aritméticos 🚀\n",
    "\n",
    "------------------------------------------------"
   ]
  },
  {
   "cell_type": "markdown",
   "metadata": {},
   "source": [
    "## ¿Qué son los operadores aritméticos?\n",
    "\n",
    "\n",
    "\n",
    ">En cuanto a los operadores aritméticos, estos permiten realizar las diferentes operaciones aritméticas del álgebra: suma, resta, producto, división, … Estos operadores Python son de los más utilizados.<br>\n",
    "\n",
    "<table style=\"width:100%\" align=\"center\">\n",
    "  <tr>\n",
    "    <th><center>Operador</center></th>\n",
    "    <th><center>Descripción</center></th>\n",
    "   \n",
    "  </tr>\n",
    "  <tr align=\"center\">\n",
    "    <td align=\"center\"><b><center>+</center></b></td>\n",
    "    <td align=\"center\"><center>Suma dos operandos.</center></td>\n",
    "    \n",
    "  </tr>\n",
    "  <tr>\n",
    "    <td><b><center>*</center></b></td>\n",
    "    <td><center>Producto/Multiplicación de dos operandos.</center></td>\n",
    "   \n",
    "  </tr>\n",
    "      <tr>\n",
    "    <td><b><center> / </center></b></td>\n",
    "    <td><center>Divide el operando de la izquierda por el de la derecha (el resultado siempre es un float). El resultado producido por el operador de división siempre es flotante, sin importar si a primera vista el resultado es flotante: 1 / 2, o si parece ser completamente entero: 2 / 1. ¿Esto ocasiona un problema? Sí, en ocasiones se podrá necesitar que el resultado de una división sea entero, no flotante.</center></td>\n",
    "      \n",
    "  </tr>\n",
    "      <tr>\n",
    "    <td><b> <center>   % </center></b></td>\n",
    "    <td><center>   Operadores: residuo (módulo). \n",
    "El siguiente operador es uno muy peculiar, porque no tiene un equivalente dentro de los operadores aritméticos tradicionales.\n",
    "Su representación gráfica en Python es el símbolo de % (porcentaje), lo cual puede ser un poco confuso.\n",
    "En otras palabras, es el valor que sobra después de dividir un valor entre otro para producir un resultado entero.\n",
    "\n",
    "Obtiene el resto de dividir el operando de la izquierda por el de la derecha.\n",
    "</center></td>\n",
    "    <tr>\n",
    "    <td><b><center>// </center></b></td>\n",
    "    <td><center>División entera\n",
    "Obtiene el cociente entero de dividir el operando de la izquierda por el de la derecha.\n",
    "Un símbolo de // (doble diagonal) es un operador de división entera. Difiere del operador estándar / en dos detalles\n",
    "        \n",
    "•\tEl resultado carece de la parte fraccionaria, está ausente (para los enteros), o siempre es igual a cero (para los flotantes); esto significa que los resultados siempre son redondeados.\n",
    "•\tSe ajusta a la regla entero vs flotante.\n",
    "El resultado de la división entera siempre se redondea al valor entero inferior mas cercano del resultado de la división no redondeada.\n",
    "        \n",
    "No intentes:\n",
    "        \n",
    "•\tDividir entre cero.\n",
    "•\tRealizar una división entera entre cero.\n",
    "•\tEncontrar el residuo de una división entre cero.\n",
    "\n",
    "</center></td>      \n",
    "  </tr>\n",
    "     <tr>\n",
    "    <td><b><center>** </center></b></td>\n",
    "    <td><center>Potencia. El resultado es el operando de la izquierda elevado a la potencia del operando de la derecha. De derecha a izquierda</center></td>      \n",
    "  </tr>\n",
    "</table>\n"
   ]
  },
  {
   "cell_type": "code",
   "execution_count": 45,
   "metadata": {},
   "outputs": [],
   "source": [
    "x=7\n",
    "y=2"
   ]
  },
  {
   "cell_type": "code",
   "execution_count": 46,
   "metadata": {},
   "outputs": [
    {
     "data": {
      "text/plain": [
       "9"
      ]
     },
     "execution_count": 46,
     "metadata": {},
     "output_type": "execute_result"
    }
   ],
   "source": [
    "x + y # Suma"
   ]
  },
  {
   "cell_type": "code",
   "execution_count": 47,
   "metadata": {},
   "outputs": [
    {
     "data": {
      "text/plain": [
       "5"
      ]
     },
     "execution_count": 47,
     "metadata": {},
     "output_type": "execute_result"
    }
   ],
   "source": [
    "x - y # Resta"
   ]
  },
  {
   "cell_type": "code",
   "execution_count": 48,
   "metadata": {},
   "outputs": [
    {
     "data": {
      "text/plain": [
       "14"
      ]
     },
     "execution_count": 48,
     "metadata": {},
     "output_type": "execute_result"
    }
   ],
   "source": [
    "x * y # Producto"
   ]
  },
  {
   "cell_type": "code",
   "execution_count": 49,
   "metadata": {},
   "outputs": [
    {
     "data": {
      "text/plain": [
       "3.5"
      ]
     },
     "execution_count": 49,
     "metadata": {},
     "output_type": "execute_result"
    }
   ],
   "source": [
    "x / y # División"
   ]
  },
  {
   "cell_type": "code",
   "execution_count": 50,
   "metadata": {},
   "outputs": [
    {
     "data": {
      "text/plain": [
       "1"
      ]
     },
     "execution_count": 50,
     "metadata": {},
     "output_type": "execute_result"
    }
   ],
   "source": [
    "x % y # Resto"
   ]
  },
  {
   "cell_type": "code",
   "execution_count": 51,
   "metadata": {},
   "outputs": [
    {
     "data": {
      "text/plain": [
       "3"
      ]
     },
     "execution_count": 51,
     "metadata": {},
     "output_type": "execute_result"
    }
   ],
   "source": [
    "x // y # Cociente"
   ]
  },
  {
   "cell_type": "code",
   "execution_count": 52,
   "metadata": {},
   "outputs": [
    {
     "data": {
      "text/plain": [
       "49"
      ]
     },
     "execution_count": 52,
     "metadata": {},
     "output_type": "execute_result"
    }
   ],
   "source": [
    "x ** y # Potencia"
   ]
  },
  {
   "cell_type": "markdown",
   "metadata": {},
   "source": [
    "# 📢Operadores de asignación 🚀\n",
    "\n",
    "------------------------------------------------"
   ]
  },
  {
   "cell_type": "markdown",
   "metadata": {},
   "source": [
    "## ¿Qué son los operadores de asignación?\n",
    "\n",
    "\n",
    ">El operador de asignación se utiliza para asignar un valor a una variable. Como te he mencionado en otras secciones, este operador es el signo =.<br>\n",
    ">Además del operador de asignación, existen otros operadores de asignación compuestos que realizan una operación básica sobre la variable a la que se le asigna el valor.<br>\n",
    ">Por ejemplo, x += 1 es lo mismo que x = x + 1. Los operadores compuestos realizan la operación que hay antes del signo igual, tomando como operandos la propia variable y el valor a la derecha del signo igual.<br>\n",
    "\n",
    "<table style=\"width:100%\" align=\"center\">\n",
    "  <tr>\n",
    "    <th><center>Operador</center></th>\n",
    "    <th><center>Ejemplo</center></th>\n",
    "   <th><center>Equivalencia</center></th>\n",
    "  </tr>\n",
    "  <tr align=\"center\">\n",
    "    <td align=\"center\"><b><center>+=</center></b></td>\n",
    "    <td align=\"center\"><center>x += 2</center></td>\n",
    "     <td align=\"center\"><center>x = x + 2</center></td>\n",
    "  </tr>\n",
    "  <tr>\n",
    "    <td><b><center>-=</center></b></td>\n",
    "    <td><center>x -= 2</center></td>\n",
    "   <td><center>x = x – 2</center></td> \n",
    "  </tr>\n",
    "      <tr>\n",
    "    <td><b><center> *=</center></b></td>\n",
    "    <td><center>x *= 2</center></td>\n",
    "    <td><center>x = x * 2</center></td>  \n",
    "  </tr>\n",
    "      <tr>\n",
    "    <td><b> <center>  /= </center></b></td>\n",
    "    <td><center>  x /= 2</center></td>\n",
    "    <td><center>  x = x / 2</center></td>\n",
    "    <tr>\n",
    "    <td><b><center>%=</center></b></td>\n",
    "    <td><center>x %= 2</center></td>   \n",
    "    <td><center>x = x % 2</center></td>     \n",
    "  </tr>\n",
    "     <tr>\n",
    "    <td><b><center>//= </center></b></td>\n",
    "    <td><center>x //= 2</center></td>\n",
    "    <td><center>x = x // 2</center></td>   \n",
    "  </tr>\n",
    "         <tr>\n",
    "    <td><b><center>**=</center></b></td>\n",
    "    <td><center>x **= 2</center></td>\n",
    "    <td><center>x = x ** 2</center></td>   \n",
    "  </tr>\n",
    "        <tr>\n",
    "    <td><b><center>&=</center></b></td>\n",
    "    <td><center>x &= 2</center></td>\n",
    "    <td><center>x = x & 2</center></td>   \n",
    "  </tr>\n",
    "         <tr>\n",
    "    <td><b><center>|=</center></b></td>\n",
    "    <td><center>x |= 2</center></td>\n",
    "    <td><center>x = x | 2</center></td>   \n",
    "  </tr>\n",
    "           <tr>\n",
    "    <td><b><center>^=</center></b></td>\n",
    "    <td><center>x ^= 2</center></td>\n",
    "    <td><center>x = x ^ 2</center></td>   \n",
    "  </tr>\n",
    "             <tr>\n",
    "    <td><b><center>>>=</center></b></td>\n",
    "    <td><center>x >>= 2</center></td>\n",
    "    <td><center>x = x >> 2</center></td>   \n",
    "  </tr>\n",
    "               <tr>\n",
    "    <td><b><center><<=</center></b></td>\n",
    "    <td><center>x <<= 2</center></td>\n",
    "    <td><center>x = x << 2</center></td>   \n",
    "  </tr>\n",
    "</table>\n"
   ]
  },
  {
   "cell_type": "code",
   "execution_count": 59,
   "metadata": {},
   "outputs": [],
   "source": [
    "x =2\n",
    "y = 3"
   ]
  },
  {
   "cell_type": "code",
   "execution_count": 60,
   "metadata": {},
   "outputs": [
    {
     "name": "stdout",
     "output_type": "stream",
     "text": [
      "4\n"
     ]
    }
   ],
   "source": [
    "x +=2\n",
    "print(x)"
   ]
  },
  {
   "cell_type": "code",
   "execution_count": 61,
   "metadata": {},
   "outputs": [
    {
     "name": "stdout",
     "output_type": "stream",
     "text": [
      "2\n"
     ]
    }
   ],
   "source": [
    "x -= 2\n",
    "print(x)"
   ]
  },
  {
   "cell_type": "code",
   "execution_count": 62,
   "metadata": {},
   "outputs": [
    {
     "name": "stdout",
     "output_type": "stream",
     "text": [
      "4\n"
     ]
    }
   ],
   "source": [
    "x *= 2\n",
    "print(x)"
   ]
  },
  {
   "cell_type": "code",
   "execution_count": 96,
   "metadata": {},
   "outputs": [
    {
     "data": {
      "text/plain": [
       "2"
      ]
     },
     "execution_count": 96,
     "metadata": {},
     "output_type": "execute_result"
    }
   ],
   "source": [
    "oveja = 1\n",
    "oveja = oveja + 1\n",
    "oveja"
   ]
  },
  {
   "cell_type": "code",
   "execution_count": 97,
   "metadata": {},
   "outputs": [
    {
     "data": {
      "text/plain": [
       "2"
      ]
     },
     "execution_count": 97,
     "metadata": {},
     "output_type": "execute_result"
    }
   ],
   "source": [
    "oveja = 1\n",
    "oveja+= 1\n",
    "oveja"
   ]
  },
  {
   "cell_type": "markdown",
   "metadata": {},
   "source": [
    "# 📢Operadores de pertenencia 🚀\n",
    "\n",
    "------------------------------------------------"
   ]
  },
  {
   "cell_type": "markdown",
   "metadata": {},
   "source": [
    "## ¿Qué son los operadores de pertenencia?\n",
    "\n",
    "\n",
    ">Los operadores de pertenencia se utilizan para comprobar si un valor o variable se encuentran en una secuencia (list, tuple, dict, set o str).<br>\n",
    "\n",
    "<table style=\"width:100%\" align=\"center\">\n",
    "  <tr>\n",
    "    <th><center>Operador</center></th>\n",
    "    <th><center>Descripción</center></th>\n",
    "   \n",
    "  </tr>\n",
    "  <tr align=\"center\">\n",
    "    <td align=\"center\"><b><center>in</center></b></td>\n",
    "    <td align=\"center\"><center>Devuelve True si el valor se encuentra en una secuencia; False en caso contrario.</center></td>\n",
    "    \n",
    "  </tr>\n",
    "  <tr>\n",
    "    <td><b><center>not in</center></b></td>\n",
    "    <td><center>Devuelve True si el valor no se encuentra en una secuencia; False en caso contrario.</center></td>\n",
    "  </tr>\n",
    "     \n",
    "</table>\n"
   ]
  },
  {
   "cell_type": "code",
   "execution_count": 63,
   "metadata": {},
   "outputs": [],
   "source": [
    "lista = [1, 3, 2, 7, 9, 8, 6]"
   ]
  },
  {
   "cell_type": "code",
   "execution_count": 64,
   "metadata": {},
   "outputs": [
    {
     "data": {
      "text/plain": [
       "False"
      ]
     },
     "execution_count": 64,
     "metadata": {},
     "output_type": "execute_result"
    }
   ],
   "source": [
    "4 in lista"
   ]
  },
  {
   "cell_type": "code",
   "execution_count": 65,
   "metadata": {},
   "outputs": [
    {
     "data": {
      "text/plain": [
       "True"
      ]
     },
     "execution_count": 65,
     "metadata": {},
     "output_type": "execute_result"
    }
   ],
   "source": [
    "3 in lista"
   ]
  },
  {
   "cell_type": "code",
   "execution_count": 66,
   "metadata": {},
   "outputs": [
    {
     "data": {
      "text/plain": [
       "True"
      ]
     },
     "execution_count": 66,
     "metadata": {},
     "output_type": "execute_result"
    }
   ],
   "source": [
    "4 not in lista"
   ]
  },
  {
   "cell_type": "markdown",
   "metadata": {},
   "source": [
    "# 📢Operadores de identidad 🚀\n",
    "\n",
    "------------------------------------------------"
   ]
  },
  {
   "cell_type": "markdown",
   "metadata": {},
   "source": [
    "## ¿Qué son los operadores de identidad?\n",
    "\n",
    "\n",
    ">Los operadores de identidad se utilizan para comprobar si dos variables son, o no, el mismo objeto.<br>\n",
    "\n",
    "<table style=\"width:100%\" align=\"center\">\n",
    "  <tr>\n",
    "    <th><center>Operador</center></th>\n",
    "    <th><center>Descripción</center></th>\n",
    "   \n",
    "  </tr>\n",
    "  <tr align=\"center\">\n",
    "    <td align=\"center\"><b><center>is</center></b></td>\n",
    "    <td align=\"center\"><center>Devuelve True si ambos operandos hacen referencia al mismo objeto; False en caso contrario.</center></td>\n",
    "    \n",
    "  </tr>\n",
    "  <tr>\n",
    "    <td><b><center>is not</center></b></td>\n",
    "    <td><center>Devuelve True si ambos operandos no hacen referencia al mismo objeto; False en caso contrario.</center></td>\n",
    "  </tr>\n",
    "     \n",
    "</table>"
   ]
  },
  {
   "cell_type": "code",
   "execution_count": 68,
   "metadata": {},
   "outputs": [],
   "source": [
    "x=4\n",
    "y=2\n",
    "lista = [1,5]"
   ]
  },
  {
   "cell_type": "code",
   "execution_count": 69,
   "metadata": {},
   "outputs": [
    {
     "data": {
      "text/plain": [
       "False"
      ]
     },
     "execution_count": 69,
     "metadata": {},
     "output_type": "execute_result"
    }
   ],
   "source": [
    "x is lista"
   ]
  },
  {
   "cell_type": "code",
   "execution_count": 70,
   "metadata": {},
   "outputs": [
    {
     "data": {
      "text/plain": [
       "False"
      ]
     },
     "execution_count": 70,
     "metadata": {},
     "output_type": "execute_result"
    }
   ],
   "source": [
    "x is y"
   ]
  },
  {
   "cell_type": "code",
   "execution_count": 71,
   "metadata": {},
   "outputs": [
    {
     "name": "stderr",
     "output_type": "stream",
     "text": [
      "<>:1: SyntaxWarning: \"is\" with a literal. Did you mean \"==\"?\n",
      "<>:1: SyntaxWarning: \"is\" with a literal. Did you mean \"==\"?\n",
      "<ipython-input-71-f74d52ea7d92>:1: SyntaxWarning: \"is\" with a literal. Did you mean \"==\"?\n",
      "  x is 4\n"
     ]
    },
    {
     "data": {
      "text/plain": [
       "True"
      ]
     },
     "execution_count": 71,
     "metadata": {},
     "output_type": "execute_result"
    }
   ],
   "source": [
    "x is 4"
   ]
  },
  {
   "cell_type": "markdown",
   "metadata": {},
   "source": [
    "# 📢Prioridad de los operadores  🚀\n",
    "\n",
    "------------------------------------------------"
   ]
  },
  {
   "cell_type": "markdown",
   "metadata": {},
   "source": [
    "## Orden de las operaciones\n",
    "\n",
    "\n",
    ">El paréntesis tiene prioridad sobre las demás operaciones matemáticas<br>\n",
    "\n",
    ">El orden de jerarquía es:<br>\n",
    "1. ()\n",
    "2. **\n",
    "3. *, /,//, %\n",
    "4. +, -"
   ]
  },
  {
   "cell_type": "code",
   "execution_count": 74,
   "metadata": {},
   "outputs": [
    {
     "data": {
      "text/plain": [
       "10"
      ]
     },
     "execution_count": 74,
     "metadata": {},
     "output_type": "execute_result"
    }
   ],
   "source": [
    "resultado = 5 + 2 * 3 - 1\n",
    "resultado"
   ]
  },
  {
   "cell_type": "code",
   "execution_count": 76,
   "metadata": {},
   "outputs": [
    {
     "data": {
      "text/plain": [
       "20"
      ]
     },
     "execution_count": 76,
     "metadata": {},
     "output_type": "execute_result"
    }
   ],
   "source": [
    "resultado = (5 + 2) * 3 - 1\n",
    "resultado"
   ]
  },
  {
   "cell_type": "code",
   "execution_count": 77,
   "metadata": {},
   "outputs": [],
   "source": [
    "x=5\n",
    "y=2"
   ]
  },
  {
   "cell_type": "code",
   "execution_count": 78,
   "metadata": {},
   "outputs": [
    {
     "data": {
      "text/plain": [
       "11"
      ]
     },
     "execution_count": 78,
     "metadata": {},
     "output_type": "execute_result"
    }
   ],
   "source": [
    "z = x + 3 * y \n",
    "z"
   ]
  },
  {
   "cell_type": "code",
   "execution_count": 80,
   "metadata": {},
   "outputs": [
    {
     "data": {
      "text/plain": [
       "16"
      ]
     },
     "execution_count": 80,
     "metadata": {},
     "output_type": "execute_result"
    }
   ],
   "source": [
    "z = (x + 3) * y \n",
    "z"
   ]
  },
  {
   "cell_type": "code",
   "execution_count": 81,
   "metadata": {},
   "outputs": [
    {
     "name": "stdout",
     "output_type": "stream",
     "text": [
      "1\n"
     ]
    }
   ],
   "source": [
    "print(2* 3 % 5) # Misma prioridad izquierda a derecha."
   ]
  },
  {
   "cell_type": "code",
   "execution_count": 12,
   "metadata": {},
   "outputs": [
    {
     "name": "stdout",
     "output_type": "stream",
     "text": [
      "16 8.0 8\n"
     ]
    }
   ],
   "source": [
    "print((2**4), (2*4.), (2*4))"
   ]
  },
  {
   "cell_type": "code",
   "execution_count": 16,
   "metadata": {},
   "outputs": [
    {
     "data": {
      "text/plain": [
       "256"
      ]
     },
     "execution_count": 16,
     "metadata": {},
     "output_type": "execute_result"
    }
   ],
   "source": [
    "2**2**3 # Los operadores de exponenciación utilizan enlazado hacia la derecha"
   ]
  },
  {
   "cell_type": "markdown",
   "metadata": {},
   "source": [
    "# 📢¿Qué son las Variables? 🚀\n",
    "\n",
    "------------------------------------------------"
   ]
  },
  {
   "cell_type": "markdown",
   "metadata": {},
   "source": [
    "## Las variables\n",
    "\n",
    "\n",
    ">Python ofrece \"cajas\" (contenedores) especiales para este propósito, estas cajas son llamadas variables - el nombre mismo sugiere que el contenido de estos contenedores puede variar en casi cualquier forma.<br>\n",
    "\n",
    ">Una variable es una ubicación nombrada reservada para almacenar valores en la memoria. Una variable es creada o inicializada automáticamente cuando se le asigna un valor por primera vez.<br>\n",
    "\n",
    ">Cada variable debe de tener un nombre único - un identificador. Un nombre valido debe ser aquel que no contiene espacios, debe comenzar con un guion bajo (_), o una letra, y no puede ser una palabra reservada de Python. El primer carácter puede estar seguido de guiones bajos, letras, y dígitos. Las variables en Python son sensibles a mayúsculas y minúsculas<br>\n",
    "\n",
    ">Python es un lenguaje de tipo dinámico, lo que significa que no se necesita declarar variables en él. Para asignar valores a las variables, se utiliza simplemente el operador de asignación, es decir el signo de igual (=) por ejemplo, var = 1.<br>\n",
    "\n",
    ">Se puede utilizar una variable para almacenar cualquier tipo de los valores que ya se han mencionado, y muchos mas de los cuales aun no se han explicado.<br>\n",
    "\n",
    "📢 <b>Reglas de uso en las variables</b>:\n",
    "\n",
    "1. El nombre de la variable debe de estar compuesto por MAYUSCULAS, minúsculas, dígitos, y el carácter _ (guion bajo).\n",
    "2. El nombre de la variable debe comenzar con una letra.\n",
    "3. El carácter _ guion bajo es considerado una letra.\n",
    "4. Las mayúsculas y minúsculas se tratan de forma distinta (un poco diferente que en el mundo real - Alicia y ALICIA son el mismo nombre, pero en Python son dos nombres de variable distintos, subsecuentemente, son dos variables diferentes).\n",
    "5. El nombre de las variables no pueden ser igual a alguna de las palabras reservadas de Python.\n",
    "\n",
    "Palabras Clave:\n",
    "\n",
    "['False', 'None', 'True', 'and', 'as', 'assert', 'break', 'class', 'continue', 'def', 'del', 'elif', 'else', 'except', 'finally', 'for', 'from', 'global', 'if', 'import', 'in', 'is', 'lambda', 'nonlocal', 'not', 'or', 'pass', 'raise', 'return', 'try', 'while', 'with', 'yield']\n",
    "\n",
    "Son llamadas palabras clave o (mejor dicho) palabras reservadas. Son reservadas porque no se deben utilizar como nombres: ni para variables, ni para funciones, ni para cualquier otra cosa que se desee crear.\n",
    "\n",
    "\n",
    "6. Python permite utilizar no solo las letras latinas, sino caracteres específicos de otros idiomas que utilizan otros alfabetos. Ejemplo: Adiós_Señora, sûr_la_mer, Einbahnstraße, переменная.\n"
   ]
  },
  {
   "cell_type": "code",
   "execution_count": 83,
   "metadata": {},
   "outputs": [
    {
     "data": {
      "text/plain": [
       "2"
      ]
     },
     "execution_count": 83,
     "metadata": {},
     "output_type": "execute_result"
    }
   ],
   "source": [
    "var=2\n",
    "var"
   ]
  },
  {
   "cell_type": "code",
   "execution_count": 85,
   "metadata": {},
   "outputs": [
    {
     "name": "stdout",
     "output_type": "stream",
     "text": [
      "Agente 007\n",
      "<class 'str'>\n"
     ]
    }
   ],
   "source": [
    "var = \"007\"\n",
    "print(\"Agente \" + var)\n",
    "print(type(var))"
   ]
  },
  {
   "cell_type": "code",
   "execution_count": 86,
   "metadata": {},
   "outputs": [
    {
     "name": "stdout",
     "output_type": "stream",
     "text": [
      "3\n"
     ]
    }
   ],
   "source": [
    "var = 2\n",
    "var = 3\n",
    "print(var)"
   ]
  },
  {
   "cell_type": "code",
   "execution_count": 87,
   "metadata": {},
   "outputs": [
    {
     "ename": "SyntaxError",
     "evalue": "invalid syntax (<ipython-input-87-e86d7009a3a8>, line 1)",
     "output_type": "error",
     "traceback": [
      "\u001b[1;36m  File \u001b[1;32m\"<ipython-input-87-e86d7009a3a8>\"\u001b[1;36m, line \u001b[1;32m1\u001b[0m\n\u001b[1;33m    101variable = 10\u001b[0m\n\u001b[1;37m       ^\u001b[0m\n\u001b[1;31mSyntaxError\u001b[0m\u001b[1;31m:\u001b[0m invalid syntax\n"
     ]
    }
   ],
   "source": [
    "101variable = 10 # incorrecto (comienza con un digito)"
   ]
  },
  {
   "cell_type": "code",
   "execution_count": 89,
   "metadata": {},
   "outputs": [
    {
     "ename": "SyntaxError",
     "evalue": "invalid syntax (<ipython-input-89-c2d849ee5dd8>, line 1)",
     "output_type": "error",
     "traceback": [
      "\u001b[1;36m  File \u001b[1;32m\"<ipython-input-89-c2d849ee5dd8>\"\u001b[1;36m, line \u001b[1;32m1\u001b[0m\n\u001b[1;33m    variable 101 = 10 # incorrecto (contiene un espacio)\u001b[0m\n\u001b[1;37m             ^\u001b[0m\n\u001b[1;31mSyntaxError\u001b[0m\u001b[1;31m:\u001b[0m invalid syntax\n"
     ]
    }
   ],
   "source": [
    "variable 101 = 10 # incorrecto (contiene un espacio)"
   ]
  },
  {
   "cell_type": "code",
   "execution_count": 90,
   "metadata": {},
   "outputs": [
    {
     "ename": "SyntaxError",
     "evalue": "invalid syntax (<ipython-input-90-7529894d20ad>, line 1)",
     "output_type": "error",
     "traceback": [
      "\u001b[1;36m  File \u001b[1;32m\"<ipython-input-90-7529894d20ad>\"\u001b[1;36m, line \u001b[1;32m1\u001b[0m\n\u001b[1;33m    del = 10\u001b[0m\n\u001b[1;37m        ^\u001b[0m\n\u001b[1;31mSyntaxError\u001b[0m\u001b[1;31m:\u001b[0m invalid syntax\n"
     ]
    }
   ],
   "source": [
    "del = 10 # incorrecto (es una palabra clave)"
   ]
  },
  {
   "cell_type": "code",
   "execution_count": 92,
   "metadata": {},
   "outputs": [
    {
     "name": "stdout",
     "output_type": "stream",
     "text": [
      "11\n",
      "<class 'str'>\n",
      "<class 'str'>\n"
     ]
    }
   ],
   "source": [
    "a = '1'\n",
    "b = \"1\"\n",
    "print(a + b)\n",
    "print(type(a))\n",
    "print(type(b))"
   ]
  },
  {
   "cell_type": "code",
   "execution_count": 94,
   "metadata": {},
   "outputs": [
    {
     "name": "stdout",
     "output_type": "stream",
     "text": [
      "1.0\n"
     ]
    }
   ],
   "source": [
    "a = 6\n",
    "b = 3\n",
    "a /= 2 * b\n",
    "print(a)\n",
    "\n",
    "# Pasos:\n",
    "#1.0\n",
    "#2 * b = 6\n",
    "#a = 6 → 6 / 6 = 1.0\n"
   ]
  },
  {
   "cell_type": "markdown",
   "metadata": {},
   "source": [
    "# 📢La función input() 🚀\n",
    "\n",
    "------------------------------------------------"
   ]
  },
  {
   "cell_type": "markdown",
   "metadata": {},
   "source": [
    "## ¿Qué hace la función input() ?\n",
    "\n",
    "\n",
    ">El resultado de la función input() es una cadena.<br>\n",
    "\n",
    ">La función print() envía datos a la consola, mientras que la función input() obtiene datos de la consola.\n",
    "<br>\n",
    "\n",
    ">La función  es capaz de leer datos que fueron introducidos por el usuario y pasar esos datos al programa en ejecución.\n",
    "<br>\n",
    "\n",
    ">El resultado de la función input() es una cadena. Se pueden unir cadenas unas con otras a través del operador de concatenación (+). \n",
    "<br>\n",
    "\n",
    ">Todos los programas leen y procesan datos. Un programa que no obtiene datos de entrada del usuario es un programa sordo.\n",
    "<br>\n",
    "\n"
   ]
  },
  {
   "cell_type": "code",
   "execution_count": 1,
   "metadata": {},
   "outputs": [
    {
     "name": "stdout",
     "output_type": "stream",
     "text": [
      "Ingresa tu nombre: Alfonso\n",
      "Hola, Alfonso. ¡Un gusto conocerte!\n"
     ]
    }
   ],
   "source": [
    "nombre = input(\"Ingresa tu nombre: \")\n",
    "print(\"Hola, \" + nombre + \". ¡Un gusto conocerte!\")\n",
    "\n"
   ]
  },
  {
   "cell_type": "code",
   "execution_count": 2,
   "metadata": {},
   "outputs": [
    {
     "name": "stdout",
     "output_type": "stream",
     "text": [
      "\n",
      "Presiona la tecla Enter para finalizar el programa.\n",
      "\n",
      "FIN.\n"
     ]
    }
   ],
   "source": [
    "print(\"\\nPresiona la tecla Enter para finalizar el programa.\")\n",
    "input()\n",
    "print(\"FIN.\")\n"
   ]
  },
  {
   "cell_type": "code",
   "execution_count": 3,
   "metadata": {},
   "outputs": [
    {
     "name": "stdout",
     "output_type": "stream",
     "text": [
      "Ingresa el primer número: 12\n",
      "Ingresa el segundo número: 21\n",
      "1221\n"
     ]
    }
   ],
   "source": [
    "num1 = input(\"Ingresa el primer número: \") # Ingresa 12\n",
    "num2 = input(\"Ingresa el segundo número: \") # Ingresa 21\n",
    "\n",
    "print(num1 + num2) # el programa regresa 1221\n"
   ]
  },
  {
   "cell_type": "code",
   "execution_count": 4,
   "metadata": {},
   "outputs": [
    {
     "name": "stdout",
     "output_type": "stream",
     "text": [
      "Ingresa un número: 2\n",
      "55\n"
     ]
    }
   ],
   "source": [
    "x = int(input(\"Ingresa un número: \")) #  el usuario ingresa un 2\n",
    "print(x * \"5\")\n"
   ]
  },
  {
   "cell_type": "code",
   "execution_count": 5,
   "metadata": {},
   "outputs": [
    {
     "name": "stdout",
     "output_type": "stream",
     "text": [
      "Ingresa un número: 2\n",
      "<class 'str'>\n"
     ]
    }
   ],
   "source": [
    "x = input(\"Ingresa un número: \") # el usuario ingresa un 2\n",
    "print(type(x))\n"
   ]
  },
  {
   "cell_type": "markdown",
   "metadata": {},
   "source": [
    "# 📢Replicación 🚀\n",
    "\n",
    "------------------------------------------------"
   ]
  },
  {
   "cell_type": "markdown",
   "metadata": {},
   "source": [
    "## ¿Qué es la replicación?\n",
    "\n",
    "\n",
    ">El signo de * (asterisco), cuando es aplicado a una cadena y a un número (o a un número y cadena) se convierte en un operador de replicación.<br>\n",
    "\n",
    ">Un número menor o igual que cero produce una cadena vacía.<br>\n"
   ]
  },
  {
   "cell_type": "code",
   "execution_count": 6,
   "metadata": {},
   "outputs": [
    {
     "name": "stdout",
     "output_type": "stream",
     "text": [
      "+----------+\n",
      "|          |\n",
      "|          |\n",
      "|          |\n",
      "|          |\n",
      "|          |\n",
      "+----------+\n"
     ]
    }
   ],
   "source": [
    "print(\"+\" + 10 * \"-\" + \"+\")\n",
    "print((\"|\" + \" \" * 10 + \"|\\n\") * 5, end=\"\")\n",
    "print(\"+\" + 10 * \"-\" + \"+\")"
   ]
  },
  {
   "cell_type": "code",
   "execution_count": 9,
   "metadata": {},
   "outputs": [
    {
     "name": "stdout",
     "output_type": "stream",
     "text": [
      "holaholahola\n"
     ]
    }
   ],
   "source": [
    "miEntrada = (\"hola\") # Ejemplo: hola\n",
    "print(miEntrada * 3) # Salida esperada: holaholahola\n"
   ]
  },
  {
   "cell_type": "code",
   "execution_count": 11,
   "metadata": {},
   "outputs": [
    {
     "name": "stdout",
     "output_type": "stream",
     "text": [
      "Esto es un ejemplo de replicación Esto es un ejemplo de replicación \n"
     ]
    }
   ],
   "source": [
    "print (\"Esto es un ejemplo de replicación \" * 2)"
   ]
  },
  {
   "cell_type": "markdown",
   "metadata": {},
   "source": [
    "# 📢Preguntas 🚀\n",
    "\n",
    "------------------------------------------------"
   ]
  },
  {
   "cell_type": "code",
   "execution_count": null,
   "metadata": {},
   "outputs": [],
   "source": []
  }
 ],
 "metadata": {
  "kernelspec": {
   "display_name": "Python 3",
   "language": "python",
   "name": "python3"
  },
  "language_info": {
   "codemirror_mode": {
    "name": "ipython",
    "version": 3
   },
   "file_extension": ".py",
   "mimetype": "text/x-python",
   "name": "python",
   "nbconvert_exporter": "python",
   "pygments_lexer": "ipython3",
   "version": "3.8.5"
  }
 },
 "nbformat": 4,
 "nbformat_minor": 4
}
